{
 "cells": [
  {
   "cell_type": "code",
   "execution_count": 41,
   "metadata": {},
   "outputs": [],
   "source": [
    "from elasticsearch import Elasticsearch\n",
    "from elasticsearch import helpers\n",
    "import numpy as np\n",
    "import json\n",
    "import pandas as pd\n",
    "import datetime \n",
    "from datetime import datetime\n",
    "from ipywidgets import interact, interactive, fixed, interact_manual\n",
    "import ipywidgets as widgets\n",
    "from matplotlib import pyplot as plt"
   ]
  },
  {
   "cell_type": "code",
   "execution_count": 42,
   "metadata": {},
   "outputs": [],
   "source": [
    "def printPieChart(label_list, data_list):\n",
    "    fig = plt.figure()\n",
    "    ax = fig.add_axes([0,0,1,1])\n",
    "    ax.axis('equal')\n",
    "    ax.pie(data_list, labels = label_list,autopct='%1.2f%%')\n",
    "    plt.show()"
   ]
  },
  {
   "cell_type": "markdown",
   "metadata": {},
   "source": [
    "# Descriptive statistics"
   ]
  },
  {
   "cell_type": "code",
   "execution_count": 43,
   "metadata": {},
   "outputs": [],
   "source": [
    "df = pd.read_json(r'data/data2/400gbJson.json')"
   ]
  },
  {
   "cell_type": "code",
   "execution_count": 44,
   "metadata": {},
   "outputs": [
    {
     "data": {
      "text/html": [
       "<div>\n",
       "<style scoped>\n",
       "    .dataframe tbody tr th:only-of-type {\n",
       "        vertical-align: middle;\n",
       "    }\n",
       "\n",
       "    .dataframe tbody tr th {\n",
       "        vertical-align: top;\n",
       "    }\n",
       "\n",
       "    .dataframe thead th {\n",
       "        text-align: right;\n",
       "    }\n",
       "</style>\n",
       "<table border=\"1\" class=\"dataframe\">\n",
       "  <thead>\n",
       "    <tr style=\"text-align: right;\">\n",
       "      <th></th>\n",
       "      <th>name</th>\n",
       "      <th>aliases</th>\n",
       "      <th>genres</th>\n",
       "      <th>description</th>\n",
       "      <th>type</th>\n",
       "      <th>release_date</th>\n",
       "    </tr>\n",
       "  </thead>\n",
       "  <tbody>\n",
       "    <tr>\n",
       "      <th>0</th>\n",
       "      <td>Jail Breakers</td>\n",
       "      <td>[Dasso yugi@en]</td>\n",
       "      <td>[Action Film, Crime Fiction Film]</td>\n",
       "      <td>[Jail Breakers is a crime fiction film directe...</td>\n",
       "      <td>[commontopic, film.film]</td>\n",
       "      <td>1976-06-19</td>\n",
       "    </tr>\n",
       "    <tr>\n",
       "      <th>1</th>\n",
       "      <td>Kvelden er din</td>\n",
       "      <td>[None]</td>\n",
       "      <td>[None]</td>\n",
       "      <td>[None]</td>\n",
       "      <td>[common.topic, tv.tv_program]</td>\n",
       "      <td>2012-03-24</td>\n",
       "    </tr>\n",
       "    <tr>\n",
       "      <th>2</th>\n",
       "      <td>Grandeur et decadence dun petit commerce de Ci...</td>\n",
       "      <td>[None]</td>\n",
       "      <td>[None]</td>\n",
       "      <td>[Grandeur et decadence dun petit commerce de C...</td>\n",
       "      <td>[common.topic, film.film]</td>\n",
       "      <td>1986</td>\n",
       "    </tr>\n",
       "    <tr>\n",
       "      <th>3</th>\n",
       "      <td>The Doors: Live in Europe (1968)</td>\n",
       "      <td>[None]</td>\n",
       "      <td>[Music Film, Documentary Film]</td>\n",
       "      <td>[None]</td>\n",
       "      <td>[common.topic, film.film, media_common.netflix...</td>\n",
       "      <td>1991</td>\n",
       "    </tr>\n",
       "    <tr>\n",
       "      <th>4</th>\n",
       "      <td>Smert Tairova</td>\n",
       "      <td>[None]</td>\n",
       "      <td>[None]</td>\n",
       "      <td>[Smert Tairova is a 2003 film directed by Bori...</td>\n",
       "      <td>[award.award_nominated_work, award.award_winni...</td>\n",
       "      <td>2003</td>\n",
       "    </tr>\n",
       "  </tbody>\n",
       "</table>\n",
       "</div>"
      ],
      "text/plain": [
       "                                                name          aliases  \\\n",
       "0                                      Jail Breakers  [Dasso yugi@en]   \n",
       "1                                     Kvelden er din           [None]   \n",
       "2  Grandeur et decadence dun petit commerce de Ci...           [None]   \n",
       "3                   The Doors: Live in Europe (1968)           [None]   \n",
       "4                                      Smert Tairova           [None]   \n",
       "\n",
       "                              genres  \\\n",
       "0  [Action Film, Crime Fiction Film]   \n",
       "1                             [None]   \n",
       "2                             [None]   \n",
       "3     [Music Film, Documentary Film]   \n",
       "4                             [None]   \n",
       "\n",
       "                                         description  \\\n",
       "0  [Jail Breakers is a crime fiction film directe...   \n",
       "1                                             [None]   \n",
       "2  [Grandeur et decadence dun petit commerce de C...   \n",
       "3                                             [None]   \n",
       "4  [Smert Tairova is a 2003 film directed by Bori...   \n",
       "\n",
       "                                                type release_date  \n",
       "0                           [commontopic, film.film]   1976-06-19  \n",
       "1                      [common.topic, tv.tv_program]   2012-03-24  \n",
       "2                          [common.topic, film.film]         1986  \n",
       "3  [common.topic, film.film, media_common.netflix...         1991  \n",
       "4  [award.award_nominated_work, award.award_winni...         2003  "
      ]
     },
     "execution_count": 44,
     "metadata": {},
     "output_type": "execute_result"
    }
   ],
   "source": [
    "df.head()"
   ]
  },
  {
   "cell_type": "code",
   "execution_count": 45,
   "metadata": {},
   "outputs": [
    {
     "name": "stdout",
     "output_type": "stream",
     "text": [
      "<class 'pandas.core.frame.DataFrame'>\n",
      "RangeIndex: 339674 entries, 0 to 339673\n",
      "Data columns (total 6 columns):\n",
      " #   Column        Non-Null Count   Dtype \n",
      "---  ------        --------------   ----- \n",
      " 0   name          339674 non-null  object\n",
      " 1   aliases       339674 non-null  object\n",
      " 2   genres        339674 non-null  object\n",
      " 3   description   339674 non-null  object\n",
      " 4   type          339674 non-null  object\n",
      " 5   release_date  339674 non-null  object\n",
      "dtypes: object(6)\n",
      "memory usage: 15.5+ MB\n"
     ]
    }
   ],
   "source": [
    "df.info()"
   ]
  },
  {
   "cell_type": "markdown",
   "metadata": {},
   "source": [
    "Num of records:"
   ]
  },
  {
   "cell_type": "code",
   "execution_count": 46,
   "metadata": {},
   "outputs": [
    {
     "data": {
      "text/plain": [
       "339674"
      ]
     },
     "execution_count": 46,
     "metadata": {},
     "output_type": "execute_result"
    }
   ],
   "source": [
    "len(df)"
   ]
  },
  {
   "cell_type": "code",
   "execution_count": 47,
   "metadata": {},
   "outputs": [
    {
     "data": {
      "text/html": [
       "<div>\n",
       "<style scoped>\n",
       "    .dataframe tbody tr th:only-of-type {\n",
       "        vertical-align: middle;\n",
       "    }\n",
       "\n",
       "    .dataframe tbody tr th {\n",
       "        vertical-align: top;\n",
       "    }\n",
       "\n",
       "    .dataframe thead th {\n",
       "        text-align: right;\n",
       "    }\n",
       "</style>\n",
       "<table border=\"1\" class=\"dataframe\">\n",
       "  <thead>\n",
       "    <tr style=\"text-align: right;\">\n",
       "      <th></th>\n",
       "      <th>name</th>\n",
       "      <th>aliases</th>\n",
       "      <th>genres</th>\n",
       "      <th>description</th>\n",
       "      <th>type</th>\n",
       "      <th>release_date</th>\n",
       "    </tr>\n",
       "  </thead>\n",
       "  <tbody>\n",
       "    <tr>\n",
       "      <th>0</th>\n",
       "      <td>Jail Breakers</td>\n",
       "      <td>[Dasso yugi@en]</td>\n",
       "      <td>[Action Film, Crime Fiction Film]</td>\n",
       "      <td>[Jail Breakers is a crime fiction film directe...</td>\n",
       "      <td>[commontopic, film.film]</td>\n",
       "      <td>1976-06-19</td>\n",
       "    </tr>\n",
       "    <tr>\n",
       "      <th>1</th>\n",
       "      <td>Kvelden er din</td>\n",
       "      <td>[None]</td>\n",
       "      <td>[None]</td>\n",
       "      <td>[None]</td>\n",
       "      <td>[common.topic, tv.tv_program]</td>\n",
       "      <td>2012-03-24</td>\n",
       "    </tr>\n",
       "    <tr>\n",
       "      <th>2</th>\n",
       "      <td>Grandeur et decadence dun petit commerce de Ci...</td>\n",
       "      <td>[None]</td>\n",
       "      <td>[None]</td>\n",
       "      <td>[Grandeur et decadence dun petit commerce de C...</td>\n",
       "      <td>[common.topic, film.film]</td>\n",
       "      <td>1986</td>\n",
       "    </tr>\n",
       "    <tr>\n",
       "      <th>3</th>\n",
       "      <td>The Doors: Live in Europe (1968)</td>\n",
       "      <td>[None]</td>\n",
       "      <td>[Music Film, Documentary Film]</td>\n",
       "      <td>[None]</td>\n",
       "      <td>[common.topic, film.film, media_common.netflix...</td>\n",
       "      <td>1991</td>\n",
       "    </tr>\n",
       "    <tr>\n",
       "      <th>4</th>\n",
       "      <td>Smert Tairova</td>\n",
       "      <td>[None]</td>\n",
       "      <td>[None]</td>\n",
       "      <td>[Smert Tairova is a 2003 film directed by Bori...</td>\n",
       "      <td>[award.award_nominated_work, award.award_winni...</td>\n",
       "      <td>2003</td>\n",
       "    </tr>\n",
       "  </tbody>\n",
       "</table>\n",
       "</div>"
      ],
      "text/plain": [
       "                                                name          aliases  \\\n",
       "0                                      Jail Breakers  [Dasso yugi@en]   \n",
       "1                                     Kvelden er din           [None]   \n",
       "2  Grandeur et decadence dun petit commerce de Ci...           [None]   \n",
       "3                   The Doors: Live in Europe (1968)           [None]   \n",
       "4                                      Smert Tairova           [None]   \n",
       "\n",
       "                              genres  \\\n",
       "0  [Action Film, Crime Fiction Film]   \n",
       "1                             [None]   \n",
       "2                             [None]   \n",
       "3     [Music Film, Documentary Film]   \n",
       "4                             [None]   \n",
       "\n",
       "                                         description  \\\n",
       "0  [Jail Breakers is a crime fiction film directe...   \n",
       "1                                             [None]   \n",
       "2  [Grandeur et decadence dun petit commerce de C...   \n",
       "3                                             [None]   \n",
       "4  [Smert Tairova is a 2003 film directed by Bori...   \n",
       "\n",
       "                                                type release_date  \n",
       "0                           [commontopic, film.film]   1976-06-19  \n",
       "1                      [common.topic, tv.tv_program]   2012-03-24  \n",
       "2                          [common.topic, film.film]         1986  \n",
       "3  [common.topic, film.film, media_common.netflix...         1991  \n",
       "4  [award.award_nominated_work, award.award_winni...         2003  "
      ]
     },
     "execution_count": 47,
     "metadata": {},
     "output_type": "execute_result"
    }
   ],
   "source": [
    "df.head()"
   ]
  },
  {
   "cell_type": "markdown",
   "metadata": {},
   "source": [
    "### aliases"
   ]
  },
  {
   "cell_type": "code",
   "execution_count": 48,
   "metadata": {},
   "outputs": [],
   "source": [
    "aliases = df.loc[:, ['name','aliases','release_date']]"
   ]
  },
  {
   "cell_type": "code",
   "execution_count": 49,
   "metadata": {},
   "outputs": [],
   "source": [
    "num_of_all_aliases = len(aliases)"
   ]
  },
  {
   "cell_type": "code",
   "execution_count": 50,
   "metadata": {},
   "outputs": [
    {
     "data": {
      "text/html": [
       "<div>\n",
       "<style scoped>\n",
       "    .dataframe tbody tr th:only-of-type {\n",
       "        vertical-align: middle;\n",
       "    }\n",
       "\n",
       "    .dataframe tbody tr th {\n",
       "        vertical-align: top;\n",
       "    }\n",
       "\n",
       "    .dataframe thead th {\n",
       "        text-align: right;\n",
       "    }\n",
       "</style>\n",
       "<table border=\"1\" class=\"dataframe\">\n",
       "  <thead>\n",
       "    <tr style=\"text-align: right;\">\n",
       "      <th></th>\n",
       "      <th>name</th>\n",
       "      <th>aliases</th>\n",
       "      <th>release_date</th>\n",
       "    </tr>\n",
       "  </thead>\n",
       "  <tbody>\n",
       "    <tr>\n",
       "      <th>0</th>\n",
       "      <td>Jail Breakers</td>\n",
       "      <td>[Dasso yugi@en]</td>\n",
       "      <td>1976-06-19</td>\n",
       "    </tr>\n",
       "    <tr>\n",
       "      <th>1</th>\n",
       "      <td>Kvelden er din</td>\n",
       "      <td>[None]</td>\n",
       "      <td>2012-03-24</td>\n",
       "    </tr>\n",
       "    <tr>\n",
       "      <th>2</th>\n",
       "      <td>Grandeur et decadence dun petit commerce de Ci...</td>\n",
       "      <td>[None]</td>\n",
       "      <td>1986</td>\n",
       "    </tr>\n",
       "    <tr>\n",
       "      <th>3</th>\n",
       "      <td>The Doors: Live in Europe (1968)</td>\n",
       "      <td>[None]</td>\n",
       "      <td>1991</td>\n",
       "    </tr>\n",
       "    <tr>\n",
       "      <th>4</th>\n",
       "      <td>Smert Tairova</td>\n",
       "      <td>[None]</td>\n",
       "      <td>2003</td>\n",
       "    </tr>\n",
       "    <tr>\n",
       "      <th>5</th>\n",
       "      <td>Claire</td>\n",
       "      <td>[None]</td>\n",
       "      <td>None</td>\n",
       "    </tr>\n",
       "    <tr>\n",
       "      <th>6</th>\n",
       "      <td>The Devilish Plank</td>\n",
       "      <td>[None]</td>\n",
       "      <td>None</td>\n",
       "    </tr>\n",
       "    <tr>\n",
       "      <th>7</th>\n",
       "      <td>Op de Hollandse Toer</td>\n",
       "      <td>[None]</td>\n",
       "      <td>1973</td>\n",
       "    </tr>\n",
       "    <tr>\n",
       "      <th>8</th>\n",
       "      <td>Le papillon fantastique</td>\n",
       "      <td>[None]</td>\n",
       "      <td>1909</td>\n",
       "    </tr>\n",
       "    <tr>\n",
       "      <th>9</th>\n",
       "      <td>Mamushi to aodaishô</td>\n",
       "      <td>[None]</td>\n",
       "      <td>1975-03-08</td>\n",
       "    </tr>\n",
       "    <tr>\n",
       "      <th>10</th>\n",
       "      <td>Abashiri bangaichi: Fubuki no tôsô</td>\n",
       "      <td>[A Story from Abashiri@en, Abashiri Prison: Du...</td>\n",
       "      <td>1967-12-23</td>\n",
       "    </tr>\n",
       "    <tr>\n",
       "      <th>11</th>\n",
       "      <td>The imperilled</td>\n",
       "      <td>[Barzakhiha@en]</td>\n",
       "      <td>1982</td>\n",
       "    </tr>\n",
       "    <tr>\n",
       "      <th>12</th>\n",
       "      <td>The Newspaper Seller</td>\n",
       "      <td>[Bayaat el jarayed@en]</td>\n",
       "      <td>1964</td>\n",
       "    </tr>\n",
       "    <tr>\n",
       "      <th>13</th>\n",
       "      <td>Al-Thaman</td>\n",
       "      <td>[None]</td>\n",
       "      <td>2012-05-22</td>\n",
       "    </tr>\n",
       "    <tr>\n",
       "      <th>14</th>\n",
       "      <td>PES -peace eco smile-</td>\n",
       "      <td>[None]</td>\n",
       "      <td>2012-03-28</td>\n",
       "    </tr>\n",
       "  </tbody>\n",
       "</table>\n",
       "</div>"
      ],
      "text/plain": [
       "                                                 name  \\\n",
       "0                                       Jail Breakers   \n",
       "1                                      Kvelden er din   \n",
       "2   Grandeur et decadence dun petit commerce de Ci...   \n",
       "3                    The Doors: Live in Europe (1968)   \n",
       "4                                       Smert Tairova   \n",
       "5                                              Claire   \n",
       "6                                  The Devilish Plank   \n",
       "7                                Op de Hollandse Toer   \n",
       "8                             Le papillon fantastique   \n",
       "9                                 Mamushi to aodaishô   \n",
       "10                 Abashiri bangaichi: Fubuki no tôsô   \n",
       "11                                     The imperilled   \n",
       "12                               The Newspaper Seller   \n",
       "13                                          Al-Thaman   \n",
       "14                              PES -peace eco smile-   \n",
       "\n",
       "                                              aliases release_date  \n",
       "0                                     [Dasso yugi@en]   1976-06-19  \n",
       "1                                              [None]   2012-03-24  \n",
       "2                                              [None]         1986  \n",
       "3                                              [None]         1991  \n",
       "4                                              [None]         2003  \n",
       "5                                              [None]         None  \n",
       "6                                              [None]         None  \n",
       "7                                              [None]         1973  \n",
       "8                                              [None]         1909  \n",
       "9                                              [None]   1975-03-08  \n",
       "10  [A Story from Abashiri@en, Abashiri Prison: Du...   1967-12-23  \n",
       "11                                    [Barzakhiha@en]         1982  \n",
       "12                             [Bayaat el jarayed@en]         1964  \n",
       "13                                             [None]   2012-05-22  \n",
       "14                                             [None]   2012-03-28  "
      ]
     },
     "execution_count": 50,
     "metadata": {},
     "output_type": "execute_result"
    }
   ],
   "source": [
    "aliases.head(15)"
   ]
  },
  {
   "cell_type": "markdown",
   "metadata": {},
   "source": [
    "Num of maximum aliases:"
   ]
  },
  {
   "cell_type": "code",
   "execution_count": 51,
   "metadata": {},
   "outputs": [],
   "source": [
    "max_aliases = aliases.loc[:,'aliases'].apply(lambda x: len(x))"
   ]
  },
  {
   "cell_type": "code",
   "execution_count": 52,
   "metadata": {},
   "outputs": [
    {
     "data": {
      "text/plain": [
       "0     1\n",
       "1     1\n",
       "2     1\n",
       "3     1\n",
       "4     1\n",
       "5     1\n",
       "6     1\n",
       "7     1\n",
       "8     1\n",
       "9     1\n",
       "10    3\n",
       "11    1\n",
       "12    1\n",
       "13    1\n",
       "14    1\n",
       "Name: aliases, dtype: int64"
      ]
     },
     "execution_count": 52,
     "metadata": {},
     "output_type": "execute_result"
    }
   ],
   "source": [
    "max_aliases.head(15)"
   ]
  },
  {
   "cell_type": "markdown",
   "metadata": {},
   "source": [
    "Index of record with max aliases:"
   ]
  },
  {
   "cell_type": "code",
   "execution_count": 53,
   "metadata": {},
   "outputs": [],
   "source": [
    "max_index_aliases = max_aliases[max_aliases == max_aliases.max()].index"
   ]
  },
  {
   "cell_type": "code",
   "execution_count": 54,
   "metadata": {},
   "outputs": [
    {
     "data": {
      "text/plain": [
       "Int64Index([223198], dtype='int64')"
      ]
     },
     "execution_count": 54,
     "metadata": {},
     "output_type": "execute_result"
    }
   ],
   "source": [
    "max_index_aliases"
   ]
  },
  {
   "cell_type": "code",
   "execution_count": 55,
   "metadata": {},
   "outputs": [
    {
     "data": {
      "text/html": [
       "<div>\n",
       "<style scoped>\n",
       "    .dataframe tbody tr th:only-of-type {\n",
       "        vertical-align: middle;\n",
       "    }\n",
       "\n",
       "    .dataframe tbody tr th {\n",
       "        vertical-align: top;\n",
       "    }\n",
       "\n",
       "    .dataframe thead th {\n",
       "        text-align: right;\n",
       "    }\n",
       "</style>\n",
       "<table border=\"1\" class=\"dataframe\">\n",
       "  <thead>\n",
       "    <tr style=\"text-align: right;\">\n",
       "      <th></th>\n",
       "      <th>name</th>\n",
       "      <th>aliases</th>\n",
       "      <th>release_date</th>\n",
       "    </tr>\n",
       "  </thead>\n",
       "  <tbody>\n",
       "    <tr>\n",
       "      <th>223198</th>\n",
       "      <td>Star Wars</td>\n",
       "      <td>[A Guerra das Estrelas@en, ANH@en, Adventures ...</td>\n",
       "      <td>1977</td>\n",
       "    </tr>\n",
       "  </tbody>\n",
       "</table>\n",
       "</div>"
      ],
      "text/plain": [
       "             name                                            aliases  \\\n",
       "223198  Star Wars  [A Guerra das Estrelas@en, ANH@en, Adventures ...   \n",
       "\n",
       "       release_date  \n",
       "223198         1977  "
      ]
     },
     "execution_count": 55,
     "metadata": {},
     "output_type": "execute_result"
    }
   ],
   "source": [
    "aliases.iloc[max_index_aliases]"
   ]
  },
  {
   "cell_type": "code",
   "execution_count": 56,
   "metadata": {},
   "outputs": [
    {
     "data": {
      "text/plain": [
       "66"
      ]
     },
     "execution_count": 56,
     "metadata": {},
     "output_type": "execute_result"
    }
   ],
   "source": [
    "max_aliases.max()"
   ]
  },
  {
   "cell_type": "code",
   "execution_count": 57,
   "metadata": {},
   "outputs": [],
   "source": [
    "aliases = aliases.explode('aliases')"
   ]
  },
  {
   "cell_type": "code",
   "execution_count": 58,
   "metadata": {},
   "outputs": [
    {
     "data": {
      "text/html": [
       "<div>\n",
       "<style scoped>\n",
       "    .dataframe tbody tr th:only-of-type {\n",
       "        vertical-align: middle;\n",
       "    }\n",
       "\n",
       "    .dataframe tbody tr th {\n",
       "        vertical-align: top;\n",
       "    }\n",
       "\n",
       "    .dataframe thead th {\n",
       "        text-align: right;\n",
       "    }\n",
       "</style>\n",
       "<table border=\"1\" class=\"dataframe\">\n",
       "  <thead>\n",
       "    <tr style=\"text-align: right;\">\n",
       "      <th></th>\n",
       "      <th>name</th>\n",
       "      <th>aliases</th>\n",
       "      <th>release_date</th>\n",
       "    </tr>\n",
       "  </thead>\n",
       "  <tbody>\n",
       "    <tr>\n",
       "      <th>0</th>\n",
       "      <td>Jail Breakers</td>\n",
       "      <td>Dasso yugi@en</td>\n",
       "      <td>1976-06-19</td>\n",
       "    </tr>\n",
       "    <tr>\n",
       "      <th>1</th>\n",
       "      <td>Kvelden er din</td>\n",
       "      <td>None</td>\n",
       "      <td>2012-03-24</td>\n",
       "    </tr>\n",
       "    <tr>\n",
       "      <th>2</th>\n",
       "      <td>Grandeur et decadence dun petit commerce de Ci...</td>\n",
       "      <td>None</td>\n",
       "      <td>1986</td>\n",
       "    </tr>\n",
       "    <tr>\n",
       "      <th>3</th>\n",
       "      <td>The Doors: Live in Europe (1968)</td>\n",
       "      <td>None</td>\n",
       "      <td>1991</td>\n",
       "    </tr>\n",
       "    <tr>\n",
       "      <th>4</th>\n",
       "      <td>Smert Tairova</td>\n",
       "      <td>None</td>\n",
       "      <td>2003</td>\n",
       "    </tr>\n",
       "    <tr>\n",
       "      <th>5</th>\n",
       "      <td>Claire</td>\n",
       "      <td>None</td>\n",
       "      <td>None</td>\n",
       "    </tr>\n",
       "    <tr>\n",
       "      <th>6</th>\n",
       "      <td>The Devilish Plank</td>\n",
       "      <td>None</td>\n",
       "      <td>None</td>\n",
       "    </tr>\n",
       "    <tr>\n",
       "      <th>7</th>\n",
       "      <td>Op de Hollandse Toer</td>\n",
       "      <td>None</td>\n",
       "      <td>1973</td>\n",
       "    </tr>\n",
       "    <tr>\n",
       "      <th>8</th>\n",
       "      <td>Le papillon fantastique</td>\n",
       "      <td>None</td>\n",
       "      <td>1909</td>\n",
       "    </tr>\n",
       "    <tr>\n",
       "      <th>9</th>\n",
       "      <td>Mamushi to aodaishô</td>\n",
       "      <td>None</td>\n",
       "      <td>1975-03-08</td>\n",
       "    </tr>\n",
       "    <tr>\n",
       "      <th>10</th>\n",
       "      <td>Abashiri bangaichi: Fubuki no tôsô</td>\n",
       "      <td>A Story from Abashiri@en</td>\n",
       "      <td>1967-12-23</td>\n",
       "    </tr>\n",
       "    <tr>\n",
       "      <th>10</th>\n",
       "      <td>Abashiri bangaichi: Fubuki no tôsô</td>\n",
       "      <td>Abashiri Prison: Duel in the Blizzard@en</td>\n",
       "      <td>1967-12-23</td>\n",
       "    </tr>\n",
       "    <tr>\n",
       "      <th>10</th>\n",
       "      <td>Abashiri bangaichi: Fubuki no tôsô</td>\n",
       "      <td>Abashiri Prison: Duel in the Snow Storm@en</td>\n",
       "      <td>1967-12-23</td>\n",
       "    </tr>\n",
       "    <tr>\n",
       "      <th>11</th>\n",
       "      <td>The imperilled</td>\n",
       "      <td>Barzakhiha@en</td>\n",
       "      <td>1982</td>\n",
       "    </tr>\n",
       "    <tr>\n",
       "      <th>12</th>\n",
       "      <td>The Newspaper Seller</td>\n",
       "      <td>Bayaat el jarayed@en</td>\n",
       "      <td>1964</td>\n",
       "    </tr>\n",
       "    <tr>\n",
       "      <th>13</th>\n",
       "      <td>Al-Thaman</td>\n",
       "      <td>None</td>\n",
       "      <td>2012-05-22</td>\n",
       "    </tr>\n",
       "  </tbody>\n",
       "</table>\n",
       "</div>"
      ],
      "text/plain": [
       "                                                 name  \\\n",
       "0                                       Jail Breakers   \n",
       "1                                      Kvelden er din   \n",
       "2   Grandeur et decadence dun petit commerce de Ci...   \n",
       "3                    The Doors: Live in Europe (1968)   \n",
       "4                                       Smert Tairova   \n",
       "5                                              Claire   \n",
       "6                                  The Devilish Plank   \n",
       "7                                Op de Hollandse Toer   \n",
       "8                             Le papillon fantastique   \n",
       "9                                 Mamushi to aodaishô   \n",
       "10                 Abashiri bangaichi: Fubuki no tôsô   \n",
       "10                 Abashiri bangaichi: Fubuki no tôsô   \n",
       "10                 Abashiri bangaichi: Fubuki no tôsô   \n",
       "11                                     The imperilled   \n",
       "12                               The Newspaper Seller   \n",
       "13                                          Al-Thaman   \n",
       "\n",
       "                                       aliases release_date  \n",
       "0                                Dasso yugi@en   1976-06-19  \n",
       "1                                         None   2012-03-24  \n",
       "2                                         None         1986  \n",
       "3                                         None         1991  \n",
       "4                                         None         2003  \n",
       "5                                         None         None  \n",
       "6                                         None         None  \n",
       "7                                         None         1973  \n",
       "8                                         None         1909  \n",
       "9                                         None   1975-03-08  \n",
       "10                    A Story from Abashiri@en   1967-12-23  \n",
       "10    Abashiri Prison: Duel in the Blizzard@en   1967-12-23  \n",
       "10  Abashiri Prison: Duel in the Snow Storm@en   1967-12-23  \n",
       "11                               Barzakhiha@en         1982  \n",
       "12                        Bayaat el jarayed@en         1964  \n",
       "13                                        None   2012-05-22  "
      ]
     },
     "execution_count": 58,
     "metadata": {},
     "output_type": "execute_result"
    }
   ],
   "source": [
    "aliases.head(16)"
   ]
  },
  {
   "cell_type": "code",
   "execution_count": 59,
   "metadata": {},
   "outputs": [],
   "source": [
    "num_of_none_aliases = len(aliases[aliases['aliases'] == \"None\"])"
   ]
  },
  {
   "cell_type": "markdown",
   "metadata": {},
   "source": [
    "Num of records with alias:"
   ]
  },
  {
   "cell_type": "code",
   "execution_count": 60,
   "metadata": {},
   "outputs": [
    {
     "data": {
      "text/plain": [
       "86198"
      ]
     },
     "execution_count": 60,
     "metadata": {},
     "output_type": "execute_result"
    }
   ],
   "source": [
    "num_of_all_aliases-num_of_none_aliases"
   ]
  },
  {
   "cell_type": "markdown",
   "metadata": {},
   "source": [
    "Num of records with None aliases: "
   ]
  },
  {
   "cell_type": "code",
   "execution_count": 61,
   "metadata": {},
   "outputs": [
    {
     "data": {
      "text/plain": [
       "253476"
      ]
     },
     "execution_count": 61,
     "metadata": {},
     "output_type": "execute_result"
    }
   ],
   "source": [
    "num_of_none_aliases"
   ]
  },
  {
   "cell_type": "code",
   "execution_count": 62,
   "metadata": {},
   "outputs": [],
   "source": [
    "percentage_of_none_aliases = (num_of_all/100)*num_of_none_aliases"
   ]
  },
  {
   "cell_type": "code",
   "execution_count": 63,
   "metadata": {},
   "outputs": [],
   "source": [
    "percentage_of_complete_aliases = (num_of_all_aliases/100)*(num_of_all-num_of_none_aliases) "
   ]
  },
  {
   "cell_type": "code",
   "execution_count": 65,
   "metadata": {},
   "outputs": [
    {
     "data": {
      "image/png": "[encoded data removed]",
      "text/plain": [
       "<Figure size 432x288 with 1 Axes>"
      ]
     },
     "metadata": {},
     "output_type": "display_data"
    }
   ],
   "source": [
    "printPieChart(['Records with complete alias', 'Records with none alias'],\n",
    "              [percentage_of_complete_aliases, percentage_of_none_aliases])"
   ]
  },
  {
   "cell_type": "markdown",
   "metadata": {},
   "source": [
    "### genres"
   ]
  },
  {
   "cell_type": "code",
   "execution_count": 70,
   "metadata": {},
   "outputs": [],
   "source": [
    "genres = df.loc[:, ['name','genres','release_date']]"
   ]
  },
  {
   "cell_type": "code",
   "execution_count": 71,
   "metadata": {},
   "outputs": [
    {
     "data": {
      "text/html": [
       "<div>\n",
       "<style scoped>\n",
       "    .dataframe tbody tr th:only-of-type {\n",
       "        vertical-align: middle;\n",
       "    }\n",
       "\n",
       "    .dataframe tbody tr th {\n",
       "        vertical-align: top;\n",
       "    }\n",
       "\n",
       "    .dataframe thead th {\n",
       "        text-align: right;\n",
       "    }\n",
       "</style>\n",
       "<table border=\"1\" class=\"dataframe\">\n",
       "  <thead>\n",
       "    <tr style=\"text-align: right;\">\n",
       "      <th></th>\n",
       "      <th>name</th>\n",
       "      <th>genres</th>\n",
       "      <th>release_date</th>\n",
       "    </tr>\n",
       "  </thead>\n",
       "  <tbody>\n",
       "    <tr>\n",
       "      <th>0</th>\n",
       "      <td>Jail Breakers</td>\n",
       "      <td>[Action Film, Crime Fiction Film]</td>\n",
       "      <td>1976-06-19</td>\n",
       "    </tr>\n",
       "    <tr>\n",
       "      <th>1</th>\n",
       "      <td>Kvelden er din</td>\n",
       "      <td>[None]</td>\n",
       "      <td>2012-03-24</td>\n",
       "    </tr>\n",
       "    <tr>\n",
       "      <th>2</th>\n",
       "      <td>Grandeur et decadence dun petit commerce de Ci...</td>\n",
       "      <td>[None]</td>\n",
       "      <td>1986</td>\n",
       "    </tr>\n",
       "    <tr>\n",
       "      <th>3</th>\n",
       "      <td>The Doors: Live in Europe (1968)</td>\n",
       "      <td>[Music Film, Documentary Film]</td>\n",
       "      <td>1991</td>\n",
       "    </tr>\n",
       "    <tr>\n",
       "      <th>4</th>\n",
       "      <td>Smert Tairova</td>\n",
       "      <td>[None]</td>\n",
       "      <td>2003</td>\n",
       "    </tr>\n",
       "    <tr>\n",
       "      <th>...</th>\n",
       "      <td>...</td>\n",
       "      <td>...</td>\n",
       "      <td>...</td>\n",
       "    </tr>\n",
       "    <tr>\n",
       "      <th>339669</th>\n",
       "      <td>It's Not About the Shawerma</td>\n",
       "      <td>[None]</td>\n",
       "      <td>None</td>\n",
       "    </tr>\n",
       "    <tr>\n",
       "      <th>339670</th>\n",
       "      <td>Ambrose's Lofty Perch</td>\n",
       "      <td>[None]</td>\n",
       "      <td>None</td>\n",
       "    </tr>\n",
       "    <tr>\n",
       "      <th>339671</th>\n",
       "      <td>The Enchanted Spectacles</td>\n",
       "      <td>[None]</td>\n",
       "      <td>None</td>\n",
       "    </tr>\n",
       "    <tr>\n",
       "      <th>339672</th>\n",
       "      <td>Mounting Tension</td>\n",
       "      <td>[None]</td>\n",
       "      <td>None</td>\n",
       "    </tr>\n",
       "    <tr>\n",
       "      <th>339673</th>\n",
       "      <td>The Red Tapes</td>\n",
       "      <td>[Epic Film]</td>\n",
       "      <td>1976</td>\n",
       "    </tr>\n",
       "  </tbody>\n",
       "</table>\n",
       "<p>339674 rows × 3 columns</p>\n",
       "</div>"
      ],
      "text/plain": [
       "                                                     name  \\\n",
       "0                                           Jail Breakers   \n",
       "1                                          Kvelden er din   \n",
       "2       Grandeur et decadence dun petit commerce de Ci...   \n",
       "3                        The Doors: Live in Europe (1968)   \n",
       "4                                           Smert Tairova   \n",
       "...                                                   ...   \n",
       "339669                        It's Not About the Shawerma   \n",
       "339670                              Ambrose's Lofty Perch   \n",
       "339671                           The Enchanted Spectacles   \n",
       "339672                                   Mounting Tension   \n",
       "339673                                      The Red Tapes   \n",
       "\n",
       "                                   genres release_date  \n",
       "0       [Action Film, Crime Fiction Film]   1976-06-19  \n",
       "1                                  [None]   2012-03-24  \n",
       "2                                  [None]         1986  \n",
       "3          [Music Film, Documentary Film]         1991  \n",
       "4                                  [None]         2003  \n",
       "...                                   ...          ...  \n",
       "339669                             [None]         None  \n",
       "339670                             [None]         None  \n",
       "339671                             [None]         None  \n",
       "339672                             [None]         None  \n",
       "339673                        [Epic Film]         1976  \n",
       "\n",
       "[339674 rows x 3 columns]"
      ]
     },
     "execution_count": 71,
     "metadata": {},
     "output_type": "execute_result"
    }
   ],
   "source": [
    "genres"
   ]
  },
  {
   "cell_type": "code",
   "execution_count": 72,
   "metadata": {},
   "outputs": [],
   "source": [
    "num_of_all_genres = len(genres)"
   ]
  },
  {
   "cell_type": "code",
   "execution_count": 73,
   "metadata": {},
   "outputs": [],
   "source": [
    "max_genres = genres.loc[:,'genres'].apply(lambda x: len(x))"
   ]
  },
  {
   "cell_type": "code",
   "execution_count": 74,
   "metadata": {},
   "outputs": [
    {
     "data": {
      "text/plain": [
       "0     2\n",
       "1     1\n",
       "2     1\n",
       "3     2\n",
       "4     1\n",
       "5     2\n",
       "6     1\n",
       "7     1\n",
       "8     1\n",
       "9     1\n",
       "10    1\n",
       "11    1\n",
       "12    1\n",
       "13    1\n",
       "14    2\n",
       "Name: genres, dtype: int64"
      ]
     },
     "execution_count": 74,
     "metadata": {},
     "output_type": "execute_result"
    }
   ],
   "source": [
    "max_genres.head(15)"
   ]
  },
  {
   "cell_type": "code",
   "execution_count": 75,
   "metadata": {},
   "outputs": [],
   "source": [
    "max_genres = genres.apply(lambda x: len(x['genres']), axis=1)"
   ]
  },
  {
   "cell_type": "code",
   "execution_count": 76,
   "metadata": {},
   "outputs": [
    {
     "data": {
      "text/plain": [
       "0     2\n",
       "1     1\n",
       "2     1\n",
       "3     2\n",
       "4     1\n",
       "5     2\n",
       "6     1\n",
       "7     1\n",
       "8     1\n",
       "9     1\n",
       "10    1\n",
       "11    1\n",
       "12    1\n",
       "13    1\n",
       "14    2\n",
       "dtype: int64"
      ]
     },
     "execution_count": 76,
     "metadata": {},
     "output_type": "execute_result"
    }
   ],
   "source": [
    "max_genres.head(15)"
   ]
  },
  {
   "cell_type": "code",
   "execution_count": 77,
   "metadata": {},
   "outputs": [],
   "source": [
    "max_index_genres = max_genres[max_genres == max_genres.max()].index"
   ]
  },
  {
   "cell_type": "code",
   "execution_count": 78,
   "metadata": {},
   "outputs": [
    {
     "data": {
      "text/plain": [
       "Int64Index([44460, 73818], dtype='int64')"
      ]
     },
     "execution_count": 78,
     "metadata": {},
     "output_type": "execute_result"
    }
   ],
   "source": [
    "max_index_genres"
   ]
  },
  {
   "cell_type": "code",
   "execution_count": 79,
   "metadata": {},
   "outputs": [
    {
     "data": {
      "text/html": [
       "<div>\n",
       "<style scoped>\n",
       "    .dataframe tbody tr th:only-of-type {\n",
       "        vertical-align: middle;\n",
       "    }\n",
       "\n",
       "    .dataframe tbody tr th {\n",
       "        vertical-align: top;\n",
       "    }\n",
       "\n",
       "    .dataframe thead th {\n",
       "        text-align: right;\n",
       "    }\n",
       "</style>\n",
       "<table border=\"1\" class=\"dataframe\">\n",
       "  <thead>\n",
       "    <tr style=\"text-align: right;\">\n",
       "      <th></th>\n",
       "      <th>name</th>\n",
       "      <th>genres</th>\n",
       "      <th>release_date</th>\n",
       "    </tr>\n",
       "  </thead>\n",
       "  <tbody>\n",
       "    <tr>\n",
       "      <th>44460</th>\n",
       "      <td>Batman: The Animated Series</td>\n",
       "      <td>[Fantasy TV Program, Action TV Program, Thrill...</td>\n",
       "      <td>1992-09-05</td>\n",
       "    </tr>\n",
       "    <tr>\n",
       "      <th>73818</th>\n",
       "      <td>The 10th Kingdom</td>\n",
       "      <td>[Fantasy Film, Romance Film, Romantic comedy F...</td>\n",
       "      <td>2000-02-27</td>\n",
       "    </tr>\n",
       "  </tbody>\n",
       "</table>\n",
       "</div>"
      ],
      "text/plain": [
       "                              name  \\\n",
       "44460  Batman: The Animated Series   \n",
       "73818             The 10th Kingdom   \n",
       "\n",
       "                                                  genres release_date  \n",
       "44460  [Fantasy TV Program, Action TV Program, Thrill...   1992-09-05  \n",
       "73818  [Fantasy Film, Romance Film, Romantic comedy F...   2000-02-27  "
      ]
     },
     "execution_count": 79,
     "metadata": {},
     "output_type": "execute_result"
    }
   ],
   "source": [
    "genres.iloc[max_index_genres]"
   ]
  },
  {
   "cell_type": "code",
   "execution_count": 80,
   "metadata": {},
   "outputs": [
    {
     "data": {
      "text/plain": [
       "16"
      ]
     },
     "execution_count": 80,
     "metadata": {},
     "output_type": "execute_result"
    }
   ],
   "source": [
    "max_genres.max()"
   ]
  },
  {
   "cell_type": "code",
   "execution_count": 81,
   "metadata": {},
   "outputs": [],
   "source": [
    "genres = genres.explode('genres')"
   ]
  },
  {
   "cell_type": "code",
   "execution_count": 82,
   "metadata": {},
   "outputs": [
    {
     "data": {
      "text/plain": [
       "Drama Film               75514\n",
       "None                     71245\n",
       "Romantic comedy Film     65345\n",
       "Short Film TV Program    46324\n",
       "Name: genres, dtype: int64"
      ]
     },
     "execution_count": 82,
     "metadata": {},
     "output_type": "execute_result"
    }
   ],
   "source": [
    "genres['genres'].value_counts()[:4]"
   ]
  },
  {
   "cell_type": "code",
   "execution_count": 93,
   "metadata": {},
   "outputs": [],
   "source": [
    "num_of_none_genres = len(genres[genres['genres'] == \"None\"])"
   ]
  },
  {
   "cell_type": "code",
   "execution_count": 98,
   "metadata": {},
   "outputs": [
    {
     "data": {
      "text/plain": [
       "71245"
      ]
     },
     "execution_count": 98,
     "metadata": {},
     "output_type": "execute_result"
    }
   ],
   "source": [
    "num_of_none_genres"
   ]
  },
  {
   "cell_type": "code",
   "execution_count": 99,
   "metadata": {},
   "outputs": [
    {
     "data": {
      "text/plain": [
       "268429"
      ]
     },
     "execution_count": 99,
     "metadata": {},
     "output_type": "execute_result"
    }
   ],
   "source": [
    "num_of_all_genres-num_of_none_genres"
   ]
  },
  {
   "cell_type": "code",
   "execution_count": 94,
   "metadata": {},
   "outputs": [],
   "source": [
    "percentage_of_none_genres = (num_of_all_genres/100)*num_of_none_genres"
   ]
  },
  {
   "cell_type": "code",
   "execution_count": 96,
   "metadata": {},
   "outputs": [],
   "source": [
    "percentage_of_complete_genres = (num_of_all_genres/100)*(num_of_all_genres-num_of_none_genres) "
   ]
  },
  {
   "cell_type": "code",
   "execution_count": 97,
   "metadata": {},
   "outputs": [
    {
     "data": {
      "image/png": "[encoded data removed]",
      "text/plain": [
       "<Figure size 432x288 with 1 Axes>"
      ]
     },
     "metadata": {},
     "output_type": "display_data"
    }
   ],
   "source": [
    "printPieChart(['Records with complete genre', 'Records with none genre'],\n",
    "              [percentage_of_complete_genres, percentage_of_none_genres])"
   ]
  },
  {
   "cell_type": "markdown",
   "metadata": {},
   "source": [
    "### description"
   ]
  },
  {
   "cell_type": "code",
   "execution_count": 140,
   "metadata": {},
   "outputs": [],
   "source": [
    "descriptions = df.loc[:, ['name','description','release_date']]"
   ]
  },
  {
   "cell_type": "code",
   "execution_count": 141,
   "metadata": {},
   "outputs": [
    {
     "data": {
      "text/html": [
       "<div>\n",
       "<style scoped>\n",
       "    .dataframe tbody tr th:only-of-type {\n",
       "        vertical-align: middle;\n",
       "    }\n",
       "\n",
       "    .dataframe tbody tr th {\n",
       "        vertical-align: top;\n",
       "    }\n",
       "\n",
       "    .dataframe thead th {\n",
       "        text-align: right;\n",
       "    }\n",
       "</style>\n",
       "<table border=\"1\" class=\"dataframe\">\n",
       "  <thead>\n",
       "    <tr style=\"text-align: right;\">\n",
       "      <th></th>\n",
       "      <th>name</th>\n",
       "      <th>description</th>\n",
       "      <th>release_date</th>\n",
       "    </tr>\n",
       "  </thead>\n",
       "  <tbody>\n",
       "    <tr>\n",
       "      <th>0</th>\n",
       "      <td>Jail Breakers</td>\n",
       "      <td>[Jail Breakers is a crime fiction film directe...</td>\n",
       "      <td>1976-06-19</td>\n",
       "    </tr>\n",
       "    <tr>\n",
       "      <th>1</th>\n",
       "      <td>Kvelden er din</td>\n",
       "      <td>[None]</td>\n",
       "      <td>2012-03-24</td>\n",
       "    </tr>\n",
       "    <tr>\n",
       "      <th>2</th>\n",
       "      <td>Grandeur et decadence dun petit commerce de Ci...</td>\n",
       "      <td>[Grandeur et decadence dun petit commerce de C...</td>\n",
       "      <td>1986</td>\n",
       "    </tr>\n",
       "    <tr>\n",
       "      <th>3</th>\n",
       "      <td>The Doors: Live in Europe (1968)</td>\n",
       "      <td>[None]</td>\n",
       "      <td>1991</td>\n",
       "    </tr>\n",
       "    <tr>\n",
       "      <th>4</th>\n",
       "      <td>Smert Tairova</td>\n",
       "      <td>[Smert Tairova is a 2003 film directed by Bori...</td>\n",
       "      <td>2003</td>\n",
       "    </tr>\n",
       "    <tr>\n",
       "      <th>...</th>\n",
       "      <td>...</td>\n",
       "      <td>...</td>\n",
       "      <td>...</td>\n",
       "    </tr>\n",
       "    <tr>\n",
       "      <th>339669</th>\n",
       "      <td>It's Not About the Shawerma</td>\n",
       "      <td>[None]</td>\n",
       "      <td>None</td>\n",
       "    </tr>\n",
       "    <tr>\n",
       "      <th>339670</th>\n",
       "      <td>Ambrose's Lofty Perch</td>\n",
       "      <td>[None]</td>\n",
       "      <td>None</td>\n",
       "    </tr>\n",
       "    <tr>\n",
       "      <th>339671</th>\n",
       "      <td>The Enchanted Spectacles</td>\n",
       "      <td>[None]</td>\n",
       "      <td>None</td>\n",
       "    </tr>\n",
       "    <tr>\n",
       "      <th>339672</th>\n",
       "      <td>Mounting Tension</td>\n",
       "      <td>[None]</td>\n",
       "      <td>None</td>\n",
       "    </tr>\n",
       "    <tr>\n",
       "      <th>339673</th>\n",
       "      <td>The Red Tapes</td>\n",
       "      <td>[The Red Tapes is a 1976 epic film directed by...</td>\n",
       "      <td>1976</td>\n",
       "    </tr>\n",
       "  </tbody>\n",
       "</table>\n",
       "<p>339674 rows × 3 columns</p>\n",
       "</div>"
      ],
      "text/plain": [
       "                                                     name  \\\n",
       "0                                           Jail Breakers   \n",
       "1                                          Kvelden er din   \n",
       "2       Grandeur et decadence dun petit commerce de Ci...   \n",
       "3                        The Doors: Live in Europe (1968)   \n",
       "4                                           Smert Tairova   \n",
       "...                                                   ...   \n",
       "339669                        It's Not About the Shawerma   \n",
       "339670                              Ambrose's Lofty Perch   \n",
       "339671                           The Enchanted Spectacles   \n",
       "339672                                   Mounting Tension   \n",
       "339673                                      The Red Tapes   \n",
       "\n",
       "                                              description release_date  \n",
       "0       [Jail Breakers is a crime fiction film directe...   1976-06-19  \n",
       "1                                                  [None]   2012-03-24  \n",
       "2       [Grandeur et decadence dun petit commerce de C...         1986  \n",
       "3                                                  [None]         1991  \n",
       "4       [Smert Tairova is a 2003 film directed by Bori...         2003  \n",
       "...                                                   ...          ...  \n",
       "339669                                             [None]         None  \n",
       "339670                                             [None]         None  \n",
       "339671                                             [None]         None  \n",
       "339672                                             [None]         None  \n",
       "339673  [The Red Tapes is a 1976 epic film directed by...         1976  \n",
       "\n",
       "[339674 rows x 3 columns]"
      ]
     },
     "execution_count": 141,
     "metadata": {},
     "output_type": "execute_result"
    }
   ],
   "source": [
    "descriptions"
   ]
  },
  {
   "cell_type": "code",
   "execution_count": 142,
   "metadata": {},
   "outputs": [],
   "source": [
    "num_of_all_descriptions = len(descriptions)"
   ]
  },
  {
   "cell_type": "code",
   "execution_count": 143,
   "metadata": {},
   "outputs": [],
   "source": [
    "max_descriptions = descriptions.apply(lambda x: len(x['description']), axis=1)"
   ]
  },
  {
   "cell_type": "code",
   "execution_count": 144,
   "metadata": {},
   "outputs": [
    {
     "data": {
      "text/plain": [
       "0     1\n",
       "1     1\n",
       "2     1\n",
       "3     1\n",
       "4     1\n",
       "5     1\n",
       "6     1\n",
       "7     1\n",
       "8     1\n",
       "9     1\n",
       "10    1\n",
       "11    1\n",
       "12    1\n",
       "13    1\n",
       "14    1\n",
       "dtype: int64"
      ]
     },
     "execution_count": 144,
     "metadata": {},
     "output_type": "execute_result"
    }
   ],
   "source": [
    "max_descriptions.head(15)"
   ]
  },
  {
   "cell_type": "code",
   "execution_count": 145,
   "metadata": {},
   "outputs": [],
   "source": [
    "max_index_descriptions = max_descriptions[max_descriptions == max_descriptions.max()].index"
   ]
  },
  {
   "cell_type": "code",
   "execution_count": 146,
   "metadata": {},
   "outputs": [
    {
     "data": {
      "text/plain": [
       "Int64Index([90563], dtype='int64')"
      ]
     },
     "execution_count": 146,
     "metadata": {},
     "output_type": "execute_result"
    }
   ],
   "source": [
    "max_index_descriptions"
   ]
  },
  {
   "cell_type": "code",
   "execution_count": 148,
   "metadata": {},
   "outputs": [
    {
     "data": {
      "text/html": [
       "<div>\n",
       "<style scoped>\n",
       "    .dataframe tbody tr th:only-of-type {\n",
       "        vertical-align: middle;\n",
       "    }\n",
       "\n",
       "    .dataframe tbody tr th {\n",
       "        vertical-align: top;\n",
       "    }\n",
       "\n",
       "    .dataframe thead th {\n",
       "        text-align: right;\n",
       "    }\n",
       "</style>\n",
       "<table border=\"1\" class=\"dataframe\">\n",
       "  <thead>\n",
       "    <tr style=\"text-align: right;\">\n",
       "      <th></th>\n",
       "      <th>name</th>\n",
       "      <th>description</th>\n",
       "      <th>release_date</th>\n",
       "    </tr>\n",
       "  </thead>\n",
       "  <tbody>\n",
       "    <tr>\n",
       "      <th>90563</th>\n",
       "      <td>Where's Huddles?</td>\n",
       "      <td>Where's Huddles? is a Hanna-Barbera animated t...</td>\n",
       "      <td>1970-07-01</td>\n",
       "    </tr>\n",
       "  </tbody>\n",
       "</table>\n",
       "</div>"
      ],
      "text/plain": [
       "                   name                                        description  \\\n",
       "90563  Where's Huddles?  Where's Huddles? is a Hanna-Barbera animated t...   \n",
       "\n",
       "      release_date  \n",
       "90563   1970-07-01  "
      ]
     },
     "execution_count": 148,
     "metadata": {},
     "output_type": "execute_result"
    }
   ],
   "source": [
    "descriptions.iloc[max_index_descriptions]"
   ]
  },
  {
   "cell_type": "code",
   "execution_count": 149,
   "metadata": {},
   "outputs": [
    {
     "data": {
      "text/plain": [
       "911"
      ]
     },
     "execution_count": 149,
     "metadata": {},
     "output_type": "execute_result"
    }
   ],
   "source": [
    "max_descriptions.max()"
   ]
  },
  {
   "cell_type": "code",
   "execution_count": 150,
   "metadata": {},
   "outputs": [],
   "source": [
    "descriptions = descriptions.explode('description')"
   ]
  },
  {
   "cell_type": "code",
   "execution_count": 151,
   "metadata": {},
   "outputs": [],
   "source": [
    "num_of_none_descriptions = len(descriptions[descriptions['description'] == \"None\"])"
   ]
  },
  {
   "cell_type": "code",
   "execution_count": 152,
   "metadata": {},
   "outputs": [
    {
     "data": {
      "text/plain": [
       "88489"
      ]
     },
     "execution_count": 152,
     "metadata": {},
     "output_type": "execute_result"
    }
   ],
   "source": [
    "num_of_none_descriptions"
   ]
  },
  {
   "cell_type": "code",
   "execution_count": 153,
   "metadata": {},
   "outputs": [
    {
     "data": {
      "text/plain": [
       "251185"
      ]
     },
     "execution_count": 153,
     "metadata": {},
     "output_type": "execute_result"
    }
   ],
   "source": [
    "num_of_all_descriptions-num_of_none_descriptions"
   ]
  },
  {
   "cell_type": "code",
   "execution_count": 154,
   "metadata": {},
   "outputs": [],
   "source": [
    "percentage_of_none_descriptions = (num_of_all_descriptions/100)*num_of_none_descriptions"
   ]
  },
  {
   "cell_type": "code",
   "execution_count": 155,
   "metadata": {},
   "outputs": [],
   "source": [
    "percentage_of_complete_descriptions = (num_of_all_descriptions/100)*(num_of_all_descriptions-num_of_none_descriptions) "
   ]
  },
  {
   "cell_type": "code",
   "execution_count": 156,
   "metadata": {},
   "outputs": [
    {
     "data": {
      "image/png": "[encoded data removed]",
      "text/plain": [
       "<Figure size 432x288 with 1 Axes>"
      ]
     },
     "metadata": {},
     "output_type": "display_data"
    }
   ],
   "source": [
    "printPieChart(['Records with complete description', 'Records with none descriptions'],\n",
    "              [percentage_of_complete_descriptions, percentage_of_none_descriptions])"
   ]
  },
  {
   "cell_type": "markdown",
   "metadata": {},
   "source": [
    "### type"
   ]
  },
  {
   "cell_type": "code",
   "execution_count": 124,
   "metadata": {},
   "outputs": [],
   "source": [
    "types = df.loc[:, ['name','type','release_date']]"
   ]
  },
  {
   "cell_type": "code",
   "execution_count": 125,
   "metadata": {},
   "outputs": [
    {
     "data": {
      "text/html": [
       "<div>\n",
       "<style scoped>\n",
       "    .dataframe tbody tr th:only-of-type {\n",
       "        vertical-align: middle;\n",
       "    }\n",
       "\n",
       "    .dataframe tbody tr th {\n",
       "        vertical-align: top;\n",
       "    }\n",
       "\n",
       "    .dataframe thead th {\n",
       "        text-align: right;\n",
       "    }\n",
       "</style>\n",
       "<table border=\"1\" class=\"dataframe\">\n",
       "  <thead>\n",
       "    <tr style=\"text-align: right;\">\n",
       "      <th></th>\n",
       "      <th>name</th>\n",
       "      <th>type</th>\n",
       "      <th>release_date</th>\n",
       "    </tr>\n",
       "  </thead>\n",
       "  <tbody>\n",
       "    <tr>\n",
       "      <th>0</th>\n",
       "      <td>Jail Breakers</td>\n",
       "      <td>[commontopic, film.film]</td>\n",
       "      <td>1976-06-19</td>\n",
       "    </tr>\n",
       "    <tr>\n",
       "      <th>1</th>\n",
       "      <td>Kvelden er din</td>\n",
       "      <td>[common.topic, tv.tv_program]</td>\n",
       "      <td>2012-03-24</td>\n",
       "    </tr>\n",
       "    <tr>\n",
       "      <th>2</th>\n",
       "      <td>Grandeur et decadence dun petit commerce de Ci...</td>\n",
       "      <td>[common.topic, film.film]</td>\n",
       "      <td>1986</td>\n",
       "    </tr>\n",
       "    <tr>\n",
       "      <th>3</th>\n",
       "      <td>The Doors: Live in Europe (1968)</td>\n",
       "      <td>[common.topic, film.film, media_common.netflix...</td>\n",
       "      <td>1991</td>\n",
       "    </tr>\n",
       "    <tr>\n",
       "      <th>4</th>\n",
       "      <td>Smert Tairova</td>\n",
       "      <td>[award.award_nominated_work, award.award_winni...</td>\n",
       "      <td>2003</td>\n",
       "    </tr>\n",
       "    <tr>\n",
       "      <th>...</th>\n",
       "      <td>...</td>\n",
       "      <td>...</td>\n",
       "      <td>...</td>\n",
       "    </tr>\n",
       "    <tr>\n",
       "      <th>339669</th>\n",
       "      <td>It's Not About the Shawerma</td>\n",
       "      <td>[common.topic, film.film]</td>\n",
       "      <td>None</td>\n",
       "    </tr>\n",
       "    <tr>\n",
       "      <th>339670</th>\n",
       "      <td>Ambrose's Lofty Perch</td>\n",
       "      <td>[common.topic, film.film]</td>\n",
       "      <td>None</td>\n",
       "    </tr>\n",
       "    <tr>\n",
       "      <th>339671</th>\n",
       "      <td>The Enchanted Spectacles</td>\n",
       "      <td>[common.topic, film.film]</td>\n",
       "      <td>None</td>\n",
       "    </tr>\n",
       "    <tr>\n",
       "      <th>339672</th>\n",
       "      <td>Mounting Tension</td>\n",
       "      <td>[common.topic, film.film]</td>\n",
       "      <td>None</td>\n",
       "    </tr>\n",
       "    <tr>\n",
       "      <th>339673</th>\n",
       "      <td>The Red Tapes</td>\n",
       "      <td>[common.topic, film.film]</td>\n",
       "      <td>1976</td>\n",
       "    </tr>\n",
       "  </tbody>\n",
       "</table>\n",
       "<p>339674 rows × 3 columns</p>\n",
       "</div>"
      ],
      "text/plain": [
       "                                                     name  \\\n",
       "0                                           Jail Breakers   \n",
       "1                                          Kvelden er din   \n",
       "2       Grandeur et decadence dun petit commerce de Ci...   \n",
       "3                        The Doors: Live in Europe (1968)   \n",
       "4                                           Smert Tairova   \n",
       "...                                                   ...   \n",
       "339669                        It's Not About the Shawerma   \n",
       "339670                              Ambrose's Lofty Perch   \n",
       "339671                           The Enchanted Spectacles   \n",
       "339672                                   Mounting Tension   \n",
       "339673                                      The Red Tapes   \n",
       "\n",
       "                                                     type release_date  \n",
       "0                                [commontopic, film.film]   1976-06-19  \n",
       "1                           [common.topic, tv.tv_program]   2012-03-24  \n",
       "2                               [common.topic, film.film]         1986  \n",
       "3       [common.topic, film.film, media_common.netflix...         1991  \n",
       "4       [award.award_nominated_work, award.award_winni...         2003  \n",
       "...                                                   ...          ...  \n",
       "339669                          [common.topic, film.film]         None  \n",
       "339670                          [common.topic, film.film]         None  \n",
       "339671                          [common.topic, film.film]         None  \n",
       "339672                          [common.topic, film.film]         None  \n",
       "339673                          [common.topic, film.film]         1976  \n",
       "\n",
       "[339674 rows x 3 columns]"
      ]
     },
     "execution_count": 125,
     "metadata": {},
     "output_type": "execute_result"
    }
   ],
   "source": [
    "types"
   ]
  },
  {
   "cell_type": "code",
   "execution_count": 126,
   "metadata": {},
   "outputs": [],
   "source": [
    "num_of_all_types = len(types)"
   ]
  },
  {
   "cell_type": "code",
   "execution_count": 127,
   "metadata": {},
   "outputs": [],
   "source": [
    "max_types = types.apply(lambda x: len(x['type']), axis=1)"
   ]
  },
  {
   "cell_type": "code",
   "execution_count": 128,
   "metadata": {},
   "outputs": [
    {
     "data": {
      "text/plain": [
       "0     2\n",
       "1     2\n",
       "2     2\n",
       "3     3\n",
       "4     4\n",
       "5     3\n",
       "6     2\n",
       "7     2\n",
       "8     2\n",
       "9     2\n",
       "10    2\n",
       "11    2\n",
       "12    2\n",
       "13    2\n",
       "14    2\n",
       "dtype: int64"
      ]
     },
     "execution_count": 128,
     "metadata": {},
     "output_type": "execute_result"
    }
   ],
   "source": [
    "max_types.head(15)"
   ]
  },
  {
   "cell_type": "code",
   "execution_count": 129,
   "metadata": {},
   "outputs": [],
   "source": [
    "max_index_types = max_types[max_types == max_types.max()].index"
   ]
  },
  {
   "cell_type": "code",
   "execution_count": 130,
   "metadata": {},
   "outputs": [
    {
     "data": {
      "text/plain": [
       "Int64Index([60344], dtype='int64')"
      ]
     },
     "execution_count": 130,
     "metadata": {},
     "output_type": "execute_result"
    }
   ],
   "source": [
    "max_index_types"
   ]
  },
  {
   "cell_type": "code",
   "execution_count": 131,
   "metadata": {},
   "outputs": [
    {
     "data": {
      "text/html": [
       "<div>\n",
       "<style scoped>\n",
       "    .dataframe tbody tr th:only-of-type {\n",
       "        vertical-align: middle;\n",
       "    }\n",
       "\n",
       "    .dataframe tbody tr th {\n",
       "        vertical-align: top;\n",
       "    }\n",
       "\n",
       "    .dataframe thead th {\n",
       "        text-align: right;\n",
       "    }\n",
       "</style>\n",
       "<table border=\"1\" class=\"dataframe\">\n",
       "  <thead>\n",
       "    <tr style=\"text-align: right;\">\n",
       "      <th></th>\n",
       "      <th>name</th>\n",
       "      <th>type</th>\n",
       "      <th>release_date</th>\n",
       "    </tr>\n",
       "  </thead>\n",
       "  <tbody>\n",
       "    <tr>\n",
       "      <th>60344</th>\n",
       "      <td>Film</td>\n",
       "      <td>[amusement_parks.ride_theme, award.award_disci...</td>\n",
       "      <td>1998-02-09</td>\n",
       "    </tr>\n",
       "  </tbody>\n",
       "</table>\n",
       "</div>"
      ],
      "text/plain": [
       "       name                                               type release_date\n",
       "60344  Film  [amusement_parks.ride_theme, award.award_disci...   1998-02-09"
      ]
     },
     "execution_count": 131,
     "metadata": {},
     "output_type": "execute_result"
    }
   ],
   "source": [
    "types.iloc[max_index_types]"
   ]
  },
  {
   "cell_type": "code",
   "execution_count": 132,
   "metadata": {},
   "outputs": [
    {
     "data": {
      "text/plain": [
       "28"
      ]
     },
     "execution_count": 132,
     "metadata": {},
     "output_type": "execute_result"
    }
   ],
   "source": [
    "max_types.max()"
   ]
  },
  {
   "cell_type": "code",
   "execution_count": 133,
   "metadata": {},
   "outputs": [],
   "source": [
    "types = types.explode('type')"
   ]
  },
  {
   "cell_type": "code",
   "execution_count": 134,
   "metadata": {},
   "outputs": [
    {
     "data": {
      "text/plain": [
       "common.topic                                  339373\n",
       "film.film                                     269405\n",
       "tv.tv_program                                  72695\n",
       "media_common.netflix_title                     71301\n",
       "award.award_nominated_work                     38643\n",
       "                                               ...  \n",
       "user.colleen16.default_domain.tragedy              1\n",
       "user.jon.default_domain.my_favorite_things         1\n",
       "digicams.camera_storage_type                       1\n",
       "common.identity                                    1\n",
       "music.music_video_performer                        1\n",
       "Name: type, Length: 473, dtype: int64"
      ]
     },
     "execution_count": 134,
     "metadata": {},
     "output_type": "execute_result"
    }
   ],
   "source": [
    "types['type'].value_counts()[:]"
   ]
  },
  {
   "cell_type": "code",
   "execution_count": 135,
   "metadata": {},
   "outputs": [],
   "source": [
    "num_of_film_types = len(types[types['type'] == 'film.film'])\n",
    "num_of_tv_types = len(types[types['type'] == 'tv.tv_program'])"
   ]
  },
  {
   "cell_type": "code",
   "execution_count": 136,
   "metadata": {},
   "outputs": [],
   "source": [
    "total_num_of_types = num_of_film_types + num_of_tv_types"
   ]
  },
  {
   "cell_type": "code",
   "execution_count": 137,
   "metadata": {},
   "outputs": [],
   "source": [
    "num_of_both_types = total_num_of_types - num_of_all_types"
   ]
  },
  {
   "cell_type": "code",
   "execution_count": 139,
   "metadata": {},
   "outputs": [
    {
     "data": {
      "image/png": "[encoded data removed]",
      "text/plain": [
       "<Figure size 432x288 with 1 Axes>"
      ]
     },
     "metadata": {
      "needs_background": "light"
     },
     "output_type": "display_data"
    }
   ],
   "source": [
    "data = [num_of_all_types, num_of_film_types, num_of_tv_types, num_of_both_types]\n",
    "plt.barh([\"All records\",\"Films\",\"TV programs\",\"Films/TV programs\"], data)\n",
    "plt.title('Zastupenie filmov a tv programov v datasete:')\n",
    "plt.show()"
   ]
  },
  {
   "cell_type": "markdown",
   "metadata": {},
   "source": [
    "### release_date"
   ]
  },
  {
   "cell_type": "markdown",
   "metadata": {},
   "source": [
    "Lets see the oldest movie in our dataset:"
   ]
  },
  {
   "cell_type": "code",
   "execution_count": 157,
   "metadata": {},
   "outputs": [
    {
     "data": {
      "text/html": [
       "<div>\n",
       "<style scoped>\n",
       "    .dataframe tbody tr th:only-of-type {\n",
       "        vertical-align: middle;\n",
       "    }\n",
       "\n",
       "    .dataframe tbody tr th {\n",
       "        vertical-align: top;\n",
       "    }\n",
       "\n",
       "    .dataframe thead th {\n",
       "        text-align: right;\n",
       "    }\n",
       "</style>\n",
       "<table border=\"1\" class=\"dataframe\">\n",
       "  <thead>\n",
       "    <tr style=\"text-align: right;\">\n",
       "      <th></th>\n",
       "      <th>name</th>\n",
       "      <th>aliases</th>\n",
       "      <th>genres</th>\n",
       "      <th>description</th>\n",
       "      <th>type</th>\n",
       "      <th>release_date</th>\n",
       "    </tr>\n",
       "  </thead>\n",
       "  <tbody>\n",
       "    <tr>\n",
       "      <th>156470</th>\n",
       "      <td>The Downtime</td>\n",
       "      <td>[None]</td>\n",
       "      <td>[Drama Film, Short Film TV Program, Short Film...</td>\n",
       "      <td>[The Downtime is a short comedy drama film dir...</td>\n",
       "      <td>[common.topic, film.film]</td>\n",
       "      <td>0214-02-28</td>\n",
       "    </tr>\n",
       "  </tbody>\n",
       "</table>\n",
       "</div>"
      ],
      "text/plain": [
       "                name aliases  \\\n",
       "156470  The Downtime  [None]   \n",
       "\n",
       "                                                   genres  \\\n",
       "156470  [Drama Film, Short Film TV Program, Short Film...   \n",
       "\n",
       "                                              description  \\\n",
       "156470  [The Downtime is a short comedy drama film dir...   \n",
       "\n",
       "                             type release_date  \n",
       "156470  [common.topic, film.film]   0214-02-28  "
      ]
     },
     "execution_count": 157,
     "metadata": {},
     "output_type": "execute_result"
    }
   ],
   "source": [
    "df[df['release_date'] == df['release_date'].min()]"
   ]
  },
  {
   "cell_type": "code",
   "execution_count": 158,
   "metadata": {},
   "outputs": [
    {
     "data": {
      "text/html": [
       "<div>\n",
       "<style scoped>\n",
       "    .dataframe tbody tr th:only-of-type {\n",
       "        vertical-align: middle;\n",
       "    }\n",
       "\n",
       "    .dataframe tbody tr th {\n",
       "        vertical-align: top;\n",
       "    }\n",
       "\n",
       "    .dataframe thead th {\n",
       "        text-align: right;\n",
       "    }\n",
       "</style>\n",
       "<table border=\"1\" class=\"dataframe\">\n",
       "  <thead>\n",
       "    <tr style=\"text-align: right;\">\n",
       "      <th></th>\n",
       "      <th>name</th>\n",
       "      <th>aliases</th>\n",
       "      <th>genres</th>\n",
       "      <th>description</th>\n",
       "      <th>type</th>\n",
       "      <th>release_date</th>\n",
       "    </tr>\n",
       "  </thead>\n",
       "  <tbody>\n",
       "    <tr>\n",
       "      <th>13181</th>\n",
       "      <td>Russian Yeti: The Killer Lives</td>\n",
       "      <td>[None]</td>\n",
       "      <td>[Action TV Program, Adventure TV Program, Real...</td>\n",
       "      <td>[RUSSIAN YETI: THE KILLER LIVES, a 2-hour spec...</td>\n",
       "      <td>[common.topic, tv.tv_program]</td>\n",
       "      <td>2104-06-01</td>\n",
       "    </tr>\n",
       "    <tr>\n",
       "      <th>14405</th>\n",
       "      <td>Shivendra</td>\n",
       "      <td>[None]</td>\n",
       "      <td>[None]</td>\n",
       "      <td>[None]</td>\n",
       "      <td>[common.topic, film.film]</td>\n",
       "      <td>2034-02-23</td>\n",
       "    </tr>\n",
       "    <tr>\n",
       "      <th>20481</th>\n",
       "      <td>Janus: Two Faces of Desire</td>\n",
       "      <td>[카오스@ko]</td>\n",
       "      <td>[Thriller Film, Erotica Film, Romance Film, Ro...</td>\n",
       "      <td>[Janus: Two Faces of Desire is an erotica film...</td>\n",
       "      <td>[common.topic, film.film]</td>\n",
       "      <td>2104-08-07</td>\n",
       "    </tr>\n",
       "    <tr>\n",
       "      <th>23845</th>\n",
       "      <td>Markurells I Wadköping</td>\n",
       "      <td>[None]</td>\n",
       "      <td>[TV Miniseries, TV Drama]</td>\n",
       "      <td>[None]</td>\n",
       "      <td>[common.topic, tv.tv_program]</td>\n",
       "      <td>2068-12-25</td>\n",
       "    </tr>\n",
       "    <tr>\n",
       "      <th>33635</th>\n",
       "      <td>Who The F**k Is Uncle Joe</td>\n",
       "      <td>[None]</td>\n",
       "      <td>[Short Film TV Program, Short Film, Romantic c...</td>\n",
       "      <td>[None]</td>\n",
       "      <td>[common.topic, film.film]</td>\n",
       "      <td>2103</td>\n",
       "    </tr>\n",
       "    <tr>\n",
       "      <th>306941</th>\n",
       "      <td>Chingchasawan</td>\n",
       "      <td>[Ching Cha Sawan@en]</td>\n",
       "      <td>[TV Variety Show]</td>\n",
       "      <td>[None]</td>\n",
       "      <td>[common.topic, tv.tv_program]</td>\n",
       "      <td>2547-11-06</td>\n",
       "    </tr>\n",
       "    <tr>\n",
       "      <th>321257</th>\n",
       "      <td>It is</td>\n",
       "      <td>[None]</td>\n",
       "      <td>[None]</td>\n",
       "      <td>[None]</td>\n",
       "      <td>[common.topic, film.film]</td>\n",
       "      <td>2222-01-02</td>\n",
       "    </tr>\n",
       "    <tr>\n",
       "      <th>339349</th>\n",
       "      <td>Blackout</td>\n",
       "      <td>[None]</td>\n",
       "      <td>[Short Film TV Program, Short Film, Historical...</td>\n",
       "      <td>[Blackout is a 2013 animated documentary, hist...</td>\n",
       "      <td>[common.topic, film.film]</td>\n",
       "      <td>2103-05-22</td>\n",
       "    </tr>\n",
       "  </tbody>\n",
       "</table>\n",
       "</div>"
      ],
      "text/plain": [
       "                                  name               aliases  \\\n",
       "13181   Russian Yeti: The Killer Lives                [None]   \n",
       "14405                        Shivendra                [None]   \n",
       "20481       Janus: Two Faces of Desire              [카오스@ko]   \n",
       "23845           Markurells I Wadköping                [None]   \n",
       "33635        Who The F**k Is Uncle Joe                [None]   \n",
       "306941                   Chingchasawan  [Ching Cha Sawan@en]   \n",
       "321257                           It is                [None]   \n",
       "339349                        Blackout                [None]   \n",
       "\n",
       "                                                   genres  \\\n",
       "13181   [Action TV Program, Adventure TV Program, Real...   \n",
       "14405                                              [None]   \n",
       "20481   [Thriller Film, Erotica Film, Romance Film, Ro...   \n",
       "23845                           [TV Miniseries, TV Drama]   \n",
       "33635   [Short Film TV Program, Short Film, Romantic c...   \n",
       "306941                                  [TV Variety Show]   \n",
       "321257                                             [None]   \n",
       "339349  [Short Film TV Program, Short Film, Historical...   \n",
       "\n",
       "                                              description  \\\n",
       "13181   [RUSSIAN YETI: THE KILLER LIVES, a 2-hour spec...   \n",
       "14405                                              [None]   \n",
       "20481   [Janus: Two Faces of Desire is an erotica film...   \n",
       "23845                                              [None]   \n",
       "33635                                              [None]   \n",
       "306941                                             [None]   \n",
       "321257                                             [None]   \n",
       "339349  [Blackout is a 2013 animated documentary, hist...   \n",
       "\n",
       "                                 type release_date  \n",
       "13181   [common.topic, tv.tv_program]   2104-06-01  \n",
       "14405       [common.topic, film.film]   2034-02-23  \n",
       "20481       [common.topic, film.film]   2104-08-07  \n",
       "23845   [common.topic, tv.tv_program]   2068-12-25  \n",
       "33635       [common.topic, film.film]         2103  \n",
       "306941  [common.topic, tv.tv_program]   2547-11-06  \n",
       "321257      [common.topic, film.film]   2222-01-02  \n",
       "339349      [common.topic, film.film]   2103-05-22  "
      ]
     },
     "execution_count": 158,
     "metadata": {},
     "output_type": "execute_result"
    }
   ],
   "source": [
    "df[(df['release_date'] > \"2021\") & (df['release_date'] != \"None\")]"
   ]
  },
  {
   "cell_type": "markdown",
   "metadata": {},
   "source": [
    "It seems that there are some inconsistent data from the freebase since the first recorded film was produced in the end of the 19th century and since to this date the year is 2020. We adjust the data so that we only view data that are past this from and past this date."
   ]
  },
  {
   "cell_type": "code",
   "execution_count": 159,
   "metadata": {},
   "outputs": [],
   "source": [
    "date_column = df[(df['release_date'] >= '1870') & (df['release_date'] <= \"2020\") & (df['release_date'] != \"None\")]['release_date']"
   ]
  },
  {
   "cell_type": "code",
   "execution_count": 160,
   "metadata": {},
   "outputs": [
    {
     "data": {
      "text/plain": [
       "'1880'"
      ]
     },
     "execution_count": 160,
     "metadata": {},
     "output_type": "execute_result"
    }
   ],
   "source": [
    "date_column.min()"
   ]
  },
  {
   "cell_type": "code",
   "execution_count": 161,
   "metadata": {},
   "outputs": [
    {
     "data": {
      "text/plain": [
       "'2019-11-01'"
      ]
     },
     "execution_count": 161,
     "metadata": {},
     "output_type": "execute_result"
    }
   ],
   "source": [
    "date_column.max()"
   ]
  },
  {
   "cell_type": "code",
   "execution_count": 162,
   "metadata": {},
   "outputs": [
    {
     "data": {
      "text/plain": [
       "0         1976-06-19\n",
       "1         2012-03-24\n",
       "2               1986\n",
       "3               1991\n",
       "4               2003\n",
       "             ...    \n",
       "339648    2013-02-23\n",
       "339653    2013-11-29\n",
       "339658    2013-12-05\n",
       "339661    2013-06-28\n",
       "339673          1976\n",
       "Name: release_date, Length: 296369, dtype: object"
      ]
     },
     "execution_count": 162,
     "metadata": {},
     "output_type": "execute_result"
    }
   ],
   "source": [
    "date_column"
   ]
  },
  {
   "cell_type": "code",
   "execution_count": 163,
   "metadata": {},
   "outputs": [],
   "source": [
    "date_column = pd.to_datetime(date_column)"
   ]
  },
  {
   "cell_type": "code",
   "execution_count": 164,
   "metadata": {},
   "outputs": [],
   "source": [
    "date_column = date_column.map(lambda x: x.strftime('%Y'))"
   ]
  },
  {
   "cell_type": "code",
   "execution_count": 165,
   "metadata": {},
   "outputs": [
    {
     "name": "stdout",
     "output_type": "stream",
     "text": [
      "0         1976\n",
      "1         2012\n",
      "2         1986\n",
      "3         1991\n",
      "4         2003\n",
      "          ... \n",
      "339648    2013\n",
      "339653    2013\n",
      "339658    2013\n",
      "339661    2013\n",
      "339673    1976\n",
      "Name: release_date, Length: 296369, dtype: object\n"
     ]
    }
   ],
   "source": [
    "print(date_column)"
   ]
  },
  {
   "cell_type": "code",
   "execution_count": 168,
   "metadata": {},
   "outputs": [
    {
     "data": {
      "text/plain": [
       "2013    15842\n",
       "2012    14253\n",
       "2008    14068\n",
       "2009    13274\n",
       "2011    12814\n",
       "        ...  \n",
       "1889        2\n",
       "1890        2\n",
       "1880        1\n",
       "1893        1\n",
       "1888        1\n",
       "Name: release_date, Length: 133, dtype: int64"
      ]
     },
     "execution_count": 168,
     "metadata": {},
     "output_type": "execute_result"
    }
   ],
   "source": [
    "date_column.value_counts()"
   ]
  },
  {
   "cell_type": "code",
   "execution_count": 169,
   "metadata": {},
   "outputs": [
    {
     "data": {
      "text/html": [
       "<div>\n",
       "<style scoped>\n",
       "    .dataframe tbody tr th:only-of-type {\n",
       "        vertical-align: middle;\n",
       "    }\n",
       "\n",
       "    .dataframe tbody tr th {\n",
       "        vertical-align: top;\n",
       "    }\n",
       "\n",
       "    .dataframe thead th {\n",
       "        text-align: right;\n",
       "    }\n",
       "</style>\n",
       "<table border=\"1\" class=\"dataframe\">\n",
       "  <thead>\n",
       "    <tr style=\"text-align: right;\">\n",
       "      <th></th>\n",
       "      <th>release_date</th>\n",
       "    </tr>\n",
       "  </thead>\n",
       "  <tbody>\n",
       "    <tr>\n",
       "      <th>2019</th>\n",
       "      <td>4</td>\n",
       "    </tr>\n",
       "    <tr>\n",
       "      <th>2018</th>\n",
       "      <td>7</td>\n",
       "    </tr>\n",
       "    <tr>\n",
       "      <th>2017</th>\n",
       "      <td>19</td>\n",
       "    </tr>\n",
       "    <tr>\n",
       "      <th>2016</th>\n",
       "      <td>63</td>\n",
       "    </tr>\n",
       "    <tr>\n",
       "      <th>2015</th>\n",
       "      <td>1461</td>\n",
       "    </tr>\n",
       "    <tr>\n",
       "      <th>2014</th>\n",
       "      <td>9145</td>\n",
       "    </tr>\n",
       "    <tr>\n",
       "      <th>2013</th>\n",
       "      <td>15842</td>\n",
       "    </tr>\n",
       "    <tr>\n",
       "      <th>2012</th>\n",
       "      <td>14253</td>\n",
       "    </tr>\n",
       "    <tr>\n",
       "      <th>2011</th>\n",
       "      <td>12814</td>\n",
       "    </tr>\n",
       "    <tr>\n",
       "      <th>2010</th>\n",
       "      <td>12487</td>\n",
       "    </tr>\n",
       "    <tr>\n",
       "      <th>2009</th>\n",
       "      <td>13274</td>\n",
       "    </tr>\n",
       "    <tr>\n",
       "      <th>2008</th>\n",
       "      <td>14068</td>\n",
       "    </tr>\n",
       "    <tr>\n",
       "      <th>2007</th>\n",
       "      <td>11653</td>\n",
       "    </tr>\n",
       "    <tr>\n",
       "      <th>2006</th>\n",
       "      <td>11552</td>\n",
       "    </tr>\n",
       "    <tr>\n",
       "      <th>2005</th>\n",
       "      <td>10541</td>\n",
       "    </tr>\n",
       "    <tr>\n",
       "      <th>2004</th>\n",
       "      <td>9707</td>\n",
       "    </tr>\n",
       "    <tr>\n",
       "      <th>2003</th>\n",
       "      <td>7978</td>\n",
       "    </tr>\n",
       "    <tr>\n",
       "      <th>2002</th>\n",
       "      <td>7061</td>\n",
       "    </tr>\n",
       "    <tr>\n",
       "      <th>2001</th>\n",
       "      <td>6259</td>\n",
       "    </tr>\n",
       "    <tr>\n",
       "      <th>2000</th>\n",
       "      <td>5914</td>\n",
       "    </tr>\n",
       "    <tr>\n",
       "      <th>1999</th>\n",
       "      <td>5287</td>\n",
       "    </tr>\n",
       "    <tr>\n",
       "      <th>1998</th>\n",
       "      <td>4658</td>\n",
       "    </tr>\n",
       "    <tr>\n",
       "      <th>1997</th>\n",
       "      <td>4309</td>\n",
       "    </tr>\n",
       "    <tr>\n",
       "      <th>1996</th>\n",
       "      <td>3939</td>\n",
       "    </tr>\n",
       "    <tr>\n",
       "      <th>1995</th>\n",
       "      <td>3899</td>\n",
       "    </tr>\n",
       "    <tr>\n",
       "      <th>1994</th>\n",
       "      <td>3595</td>\n",
       "    </tr>\n",
       "    <tr>\n",
       "      <th>1993</th>\n",
       "      <td>3393</td>\n",
       "    </tr>\n",
       "    <tr>\n",
       "      <th>1992</th>\n",
       "      <td>3109</td>\n",
       "    </tr>\n",
       "    <tr>\n",
       "      <th>1991</th>\n",
       "      <td>2947</td>\n",
       "    </tr>\n",
       "    <tr>\n",
       "      <th>1990</th>\n",
       "      <td>2971</td>\n",
       "    </tr>\n",
       "    <tr>\n",
       "      <th>1989</th>\n",
       "      <td>2878</td>\n",
       "    </tr>\n",
       "    <tr>\n",
       "      <th>1988</th>\n",
       "      <td>2725</td>\n",
       "    </tr>\n",
       "    <tr>\n",
       "      <th>1987</th>\n",
       "      <td>2804</td>\n",
       "    </tr>\n",
       "    <tr>\n",
       "      <th>1986</th>\n",
       "      <td>2517</td>\n",
       "    </tr>\n",
       "    <tr>\n",
       "      <th>1985</th>\n",
       "      <td>2535</td>\n",
       "    </tr>\n",
       "    <tr>\n",
       "      <th>1984</th>\n",
       "      <td>2410</td>\n",
       "    </tr>\n",
       "    <tr>\n",
       "      <th>1983</th>\n",
       "      <td>2326</td>\n",
       "    </tr>\n",
       "    <tr>\n",
       "      <th>1982</th>\n",
       "      <td>2202</td>\n",
       "    </tr>\n",
       "    <tr>\n",
       "      <th>1981</th>\n",
       "      <td>2013</td>\n",
       "    </tr>\n",
       "    <tr>\n",
       "      <th>1980</th>\n",
       "      <td>2024</td>\n",
       "    </tr>\n",
       "  </tbody>\n",
       "</table>\n",
       "</div>"
      ],
      "text/plain": [
       "      release_date\n",
       "2019             4\n",
       "2018             7\n",
       "2017            19\n",
       "2016            63\n",
       "2015          1461\n",
       "2014          9145\n",
       "2013         15842\n",
       "2012         14253\n",
       "2011         12814\n",
       "2010         12487\n",
       "2009         13274\n",
       "2008         14068\n",
       "2007         11653\n",
       "2006         11552\n",
       "2005         10541\n",
       "2004          9707\n",
       "2003          7978\n",
       "2002          7061\n",
       "2001          6259\n",
       "2000          5914\n",
       "1999          5287\n",
       "1998          4658\n",
       "1997          4309\n",
       "1996          3939\n",
       "1995          3899\n",
       "1994          3595\n",
       "1993          3393\n",
       "1992          3109\n",
       "1991          2947\n",
       "1990          2971\n",
       "1989          2878\n",
       "1988          2725\n",
       "1987          2804\n",
       "1986          2517\n",
       "1985          2535\n",
       "1984          2410\n",
       "1983          2326\n",
       "1982          2202\n",
       "1981          2013\n",
       "1980          2024"
      ]
     },
     "execution_count": 169,
     "metadata": {},
     "output_type": "execute_result"
    }
   ],
   "source": [
    "date_column.value_counts().sort_index(ascending=False)[:40].to_frame()"
   ]
  },
  {
   "cell_type": "code",
   "execution_count": 170,
   "metadata": {},
   "outputs": [
    {
     "data": {
      "text/html": [
       "<div>\n",
       "<style scoped>\n",
       "    .dataframe tbody tr th:only-of-type {\n",
       "        vertical-align: middle;\n",
       "    }\n",
       "\n",
       "    .dataframe tbody tr th {\n",
       "        vertical-align: top;\n",
       "    }\n",
       "\n",
       "    .dataframe thead th {\n",
       "        text-align: right;\n",
       "    }\n",
       "</style>\n",
       "<table border=\"1\" class=\"dataframe\">\n",
       "  <thead>\n",
       "    <tr style=\"text-align: right;\">\n",
       "      <th></th>\n",
       "      <th>release_date</th>\n",
       "    </tr>\n",
       "  </thead>\n",
       "  <tbody>\n",
       "    <tr>\n",
       "      <th>1979</th>\n",
       "      <td>2057</td>\n",
       "    </tr>\n",
       "    <tr>\n",
       "      <th>1978</th>\n",
       "      <td>1886</td>\n",
       "    </tr>\n",
       "    <tr>\n",
       "      <th>1977</th>\n",
       "      <td>1853</td>\n",
       "    </tr>\n",
       "    <tr>\n",
       "      <th>1976</th>\n",
       "      <td>1807</td>\n",
       "    </tr>\n",
       "    <tr>\n",
       "      <th>1975</th>\n",
       "      <td>1650</td>\n",
       "    </tr>\n",
       "    <tr>\n",
       "      <th>1974</th>\n",
       "      <td>1762</td>\n",
       "    </tr>\n",
       "    <tr>\n",
       "      <th>1973</th>\n",
       "      <td>1738</td>\n",
       "    </tr>\n",
       "    <tr>\n",
       "      <th>1972</th>\n",
       "      <td>1822</td>\n",
       "    </tr>\n",
       "    <tr>\n",
       "      <th>1971</th>\n",
       "      <td>1805</td>\n",
       "    </tr>\n",
       "    <tr>\n",
       "      <th>1970</th>\n",
       "      <td>1643</td>\n",
       "    </tr>\n",
       "    <tr>\n",
       "      <th>1969</th>\n",
       "      <td>1610</td>\n",
       "    </tr>\n",
       "    <tr>\n",
       "      <th>1968</th>\n",
       "      <td>1650</td>\n",
       "    </tr>\n",
       "    <tr>\n",
       "      <th>1967</th>\n",
       "      <td>1560</td>\n",
       "    </tr>\n",
       "    <tr>\n",
       "      <th>1966</th>\n",
       "      <td>1485</td>\n",
       "    </tr>\n",
       "    <tr>\n",
       "      <th>1965</th>\n",
       "      <td>1572</td>\n",
       "    </tr>\n",
       "    <tr>\n",
       "      <th>1964</th>\n",
       "      <td>1379</td>\n",
       "    </tr>\n",
       "    <tr>\n",
       "      <th>1963</th>\n",
       "      <td>1184</td>\n",
       "    </tr>\n",
       "    <tr>\n",
       "      <th>1962</th>\n",
       "      <td>1238</td>\n",
       "    </tr>\n",
       "    <tr>\n",
       "      <th>1961</th>\n",
       "      <td>1267</td>\n",
       "    </tr>\n",
       "    <tr>\n",
       "      <th>1960</th>\n",
       "      <td>1199</td>\n",
       "    </tr>\n",
       "    <tr>\n",
       "      <th>1959</th>\n",
       "      <td>1249</td>\n",
       "    </tr>\n",
       "    <tr>\n",
       "      <th>1958</th>\n",
       "      <td>1275</td>\n",
       "    </tr>\n",
       "    <tr>\n",
       "      <th>1957</th>\n",
       "      <td>1217</td>\n",
       "    </tr>\n",
       "    <tr>\n",
       "      <th>1956</th>\n",
       "      <td>1116</td>\n",
       "    </tr>\n",
       "    <tr>\n",
       "      <th>1955</th>\n",
       "      <td>1133</td>\n",
       "    </tr>\n",
       "    <tr>\n",
       "      <th>1954</th>\n",
       "      <td>1060</td>\n",
       "    </tr>\n",
       "    <tr>\n",
       "      <th>1953</th>\n",
       "      <td>1098</td>\n",
       "    </tr>\n",
       "    <tr>\n",
       "      <th>1952</th>\n",
       "      <td>1135</td>\n",
       "    </tr>\n",
       "    <tr>\n",
       "      <th>1951</th>\n",
       "      <td>1143</td>\n",
       "    </tr>\n",
       "    <tr>\n",
       "      <th>1950</th>\n",
       "      <td>1099</td>\n",
       "    </tr>\n",
       "    <tr>\n",
       "      <th>1949</th>\n",
       "      <td>973</td>\n",
       "    </tr>\n",
       "    <tr>\n",
       "      <th>1948</th>\n",
       "      <td>862</td>\n",
       "    </tr>\n",
       "    <tr>\n",
       "      <th>1947</th>\n",
       "      <td>788</td>\n",
       "    </tr>\n",
       "    <tr>\n",
       "      <th>1946</th>\n",
       "      <td>753</td>\n",
       "    </tr>\n",
       "    <tr>\n",
       "      <th>1945</th>\n",
       "      <td>676</td>\n",
       "    </tr>\n",
       "    <tr>\n",
       "      <th>1944</th>\n",
       "      <td>693</td>\n",
       "    </tr>\n",
       "    <tr>\n",
       "      <th>1943</th>\n",
       "      <td>807</td>\n",
       "    </tr>\n",
       "    <tr>\n",
       "      <th>1942</th>\n",
       "      <td>907</td>\n",
       "    </tr>\n",
       "    <tr>\n",
       "      <th>1941</th>\n",
       "      <td>867</td>\n",
       "    </tr>\n",
       "    <tr>\n",
       "      <th>1940</th>\n",
       "      <td>861</td>\n",
       "    </tr>\n",
       "  </tbody>\n",
       "</table>\n",
       "</div>"
      ],
      "text/plain": [
       "      release_date\n",
       "1979          2057\n",
       "1978          1886\n",
       "1977          1853\n",
       "1976          1807\n",
       "1975          1650\n",
       "1974          1762\n",
       "1973          1738\n",
       "1972          1822\n",
       "1971          1805\n",
       "1970          1643\n",
       "1969          1610\n",
       "1968          1650\n",
       "1967          1560\n",
       "1966          1485\n",
       "1965          1572\n",
       "1964          1379\n",
       "1963          1184\n",
       "1962          1238\n",
       "1961          1267\n",
       "1960          1199\n",
       "1959          1249\n",
       "1958          1275\n",
       "1957          1217\n",
       "1956          1116\n",
       "1955          1133\n",
       "1954          1060\n",
       "1953          1098\n",
       "1952          1135\n",
       "1951          1143\n",
       "1950          1099\n",
       "1949           973\n",
       "1948           862\n",
       "1947           788\n",
       "1946           753\n",
       "1945           676\n",
       "1944           693\n",
       "1943           807\n",
       "1942           907\n",
       "1941           867\n",
       "1940           861"
      ]
     },
     "execution_count": 170,
     "metadata": {},
     "output_type": "execute_result"
    }
   ],
   "source": [
    "date_column.value_counts().sort_index(ascending=False)[40:80].to_frame()"
   ]
  },
  {
   "cell_type": "code",
   "execution_count": 171,
   "metadata": {},
   "outputs": [
    {
     "data": {
      "text/html": [
       "<div>\n",
       "<style scoped>\n",
       "    .dataframe tbody tr th:only-of-type {\n",
       "        vertical-align: middle;\n",
       "    }\n",
       "\n",
       "    .dataframe tbody tr th {\n",
       "        vertical-align: top;\n",
       "    }\n",
       "\n",
       "    .dataframe thead th {\n",
       "        text-align: right;\n",
       "    }\n",
       "</style>\n",
       "<table border=\"1\" class=\"dataframe\">\n",
       "  <thead>\n",
       "    <tr style=\"text-align: right;\">\n",
       "      <th></th>\n",
       "      <th>release_date</th>\n",
       "    </tr>\n",
       "  </thead>\n",
       "  <tbody>\n",
       "    <tr>\n",
       "      <th>1939</th>\n",
       "      <td>877</td>\n",
       "    </tr>\n",
       "    <tr>\n",
       "      <th>1938</th>\n",
       "      <td>879</td>\n",
       "    </tr>\n",
       "    <tr>\n",
       "      <th>1937</th>\n",
       "      <td>955</td>\n",
       "    </tr>\n",
       "    <tr>\n",
       "      <th>1936</th>\n",
       "      <td>965</td>\n",
       "    </tr>\n",
       "    <tr>\n",
       "      <th>1935</th>\n",
       "      <td>836</td>\n",
       "    </tr>\n",
       "    <tr>\n",
       "      <th>1934</th>\n",
       "      <td>813</td>\n",
       "    </tr>\n",
       "    <tr>\n",
       "      <th>1933</th>\n",
       "      <td>735</td>\n",
       "    </tr>\n",
       "    <tr>\n",
       "      <th>1932</th>\n",
       "      <td>704</td>\n",
       "    </tr>\n",
       "    <tr>\n",
       "      <th>1931</th>\n",
       "      <td>728</td>\n",
       "    </tr>\n",
       "    <tr>\n",
       "      <th>1930</th>\n",
       "      <td>644</td>\n",
       "    </tr>\n",
       "    <tr>\n",
       "      <th>1929</th>\n",
       "      <td>578</td>\n",
       "    </tr>\n",
       "    <tr>\n",
       "      <th>1928</th>\n",
       "      <td>553</td>\n",
       "    </tr>\n",
       "    <tr>\n",
       "      <th>1927</th>\n",
       "      <td>539</td>\n",
       "    </tr>\n",
       "    <tr>\n",
       "      <th>1926</th>\n",
       "      <td>460</td>\n",
       "    </tr>\n",
       "    <tr>\n",
       "      <th>1925</th>\n",
       "      <td>452</td>\n",
       "    </tr>\n",
       "    <tr>\n",
       "      <th>1924</th>\n",
       "      <td>416</td>\n",
       "    </tr>\n",
       "    <tr>\n",
       "      <th>1923</th>\n",
       "      <td>416</td>\n",
       "    </tr>\n",
       "    <tr>\n",
       "      <th>1922</th>\n",
       "      <td>391</td>\n",
       "    </tr>\n",
       "    <tr>\n",
       "      <th>1921</th>\n",
       "      <td>480</td>\n",
       "    </tr>\n",
       "    <tr>\n",
       "      <th>1920</th>\n",
       "      <td>521</td>\n",
       "    </tr>\n",
       "    <tr>\n",
       "      <th>1919</th>\n",
       "      <td>509</td>\n",
       "    </tr>\n",
       "    <tr>\n",
       "      <th>1918</th>\n",
       "      <td>466</td>\n",
       "    </tr>\n",
       "    <tr>\n",
       "      <th>1917</th>\n",
       "      <td>513</td>\n",
       "    </tr>\n",
       "    <tr>\n",
       "      <th>1916</th>\n",
       "      <td>598</td>\n",
       "    </tr>\n",
       "    <tr>\n",
       "      <th>1915</th>\n",
       "      <td>590</td>\n",
       "    </tr>\n",
       "    <tr>\n",
       "      <th>1914</th>\n",
       "      <td>538</td>\n",
       "    </tr>\n",
       "    <tr>\n",
       "      <th>1913</th>\n",
       "      <td>401</td>\n",
       "    </tr>\n",
       "    <tr>\n",
       "      <th>1912</th>\n",
       "      <td>247</td>\n",
       "    </tr>\n",
       "    <tr>\n",
       "      <th>1911</th>\n",
       "      <td>207</td>\n",
       "    </tr>\n",
       "    <tr>\n",
       "      <th>1910</th>\n",
       "      <td>136</td>\n",
       "    </tr>\n",
       "    <tr>\n",
       "      <th>1909</th>\n",
       "      <td>91</td>\n",
       "    </tr>\n",
       "    <tr>\n",
       "      <th>1908</th>\n",
       "      <td>79</td>\n",
       "    </tr>\n",
       "    <tr>\n",
       "      <th>1907</th>\n",
       "      <td>40</td>\n",
       "    </tr>\n",
       "    <tr>\n",
       "      <th>1906</th>\n",
       "      <td>29</td>\n",
       "    </tr>\n",
       "    <tr>\n",
       "      <th>1905</th>\n",
       "      <td>21</td>\n",
       "    </tr>\n",
       "    <tr>\n",
       "      <th>1904</th>\n",
       "      <td>11</td>\n",
       "    </tr>\n",
       "    <tr>\n",
       "      <th>1903</th>\n",
       "      <td>26</td>\n",
       "    </tr>\n",
       "    <tr>\n",
       "      <th>1902</th>\n",
       "      <td>38</td>\n",
       "    </tr>\n",
       "    <tr>\n",
       "      <th>1901</th>\n",
       "      <td>43</td>\n",
       "    </tr>\n",
       "    <tr>\n",
       "      <th>1900</th>\n",
       "      <td>66</td>\n",
       "    </tr>\n",
       "    <tr>\n",
       "      <th>1899</th>\n",
       "      <td>27</td>\n",
       "    </tr>\n",
       "    <tr>\n",
       "      <th>1898</th>\n",
       "      <td>57</td>\n",
       "    </tr>\n",
       "    <tr>\n",
       "      <th>1897</th>\n",
       "      <td>40</td>\n",
       "    </tr>\n",
       "    <tr>\n",
       "      <th>1896</th>\n",
       "      <td>76</td>\n",
       "    </tr>\n",
       "    <tr>\n",
       "      <th>1895</th>\n",
       "      <td>24</td>\n",
       "    </tr>\n",
       "    <tr>\n",
       "      <th>1894</th>\n",
       "      <td>18</td>\n",
       "    </tr>\n",
       "    <tr>\n",
       "      <th>1893</th>\n",
       "      <td>1</td>\n",
       "    </tr>\n",
       "    <tr>\n",
       "      <th>1892</th>\n",
       "      <td>4</td>\n",
       "    </tr>\n",
       "    <tr>\n",
       "      <th>1891</th>\n",
       "      <td>3</td>\n",
       "    </tr>\n",
       "    <tr>\n",
       "      <th>1890</th>\n",
       "      <td>2</td>\n",
       "    </tr>\n",
       "    <tr>\n",
       "      <th>1889</th>\n",
       "      <td>2</td>\n",
       "    </tr>\n",
       "    <tr>\n",
       "      <th>1888</th>\n",
       "      <td>1</td>\n",
       "    </tr>\n",
       "    <tr>\n",
       "      <th>1880</th>\n",
       "      <td>1</td>\n",
       "    </tr>\n",
       "  </tbody>\n",
       "</table>\n",
       "</div>"
      ],
      "text/plain": [
       "      release_date\n",
       "1939           877\n",
       "1938           879\n",
       "1937           955\n",
       "1936           965\n",
       "1935           836\n",
       "1934           813\n",
       "1933           735\n",
       "1932           704\n",
       "1931           728\n",
       "1930           644\n",
       "1929           578\n",
       "1928           553\n",
       "1927           539\n",
       "1926           460\n",
       "1925           452\n",
       "1924           416\n",
       "1923           416\n",
       "1922           391\n",
       "1921           480\n",
       "1920           521\n",
       "1919           509\n",
       "1918           466\n",
       "1917           513\n",
       "1916           598\n",
       "1915           590\n",
       "1914           538\n",
       "1913           401\n",
       "1912           247\n",
       "1911           207\n",
       "1910           136\n",
       "1909            91\n",
       "1908            79\n",
       "1907            40\n",
       "1906            29\n",
       "1905            21\n",
       "1904            11\n",
       "1903            26\n",
       "1902            38\n",
       "1901            43\n",
       "1900            66\n",
       "1899            27\n",
       "1898            57\n",
       "1897            40\n",
       "1896            76\n",
       "1895            24\n",
       "1894            18\n",
       "1893             1\n",
       "1892             4\n",
       "1891             3\n",
       "1890             2\n",
       "1889             2\n",
       "1888             1\n",
       "1880             1"
      ]
     },
     "execution_count": 171,
     "metadata": {},
     "output_type": "execute_result"
    }
   ],
   "source": [
    "date_column.value_counts().sort_index(ascending=False)[80:].to_frame()"
   ]
  },
  {
   "cell_type": "code",
   "execution_count": 181,
   "metadata": {},
   "outputs": [],
   "source": [
    "nineteen_cent = len(df[(df['release_date'] >= '1880') & (df['release_date'] < \"1901\") & (df['release_date'] != \"None\")]['release_date'])\n",
    "twenty_cent = len(df[(df['release_date'] >= '1901') & (df['release_date'] < \"2001\") & (df['release_date'] != \"None\")]['release_date'])\n",
    "twentyone_cent = len(df[(df['release_date'] >= '2001') & (df['release_date'] < \"2021\") & (df['release_date'] != \"None\")]['release_date'])"
   ]
  },
  {
   "cell_type": "code",
   "execution_count": null,
   "metadata": {},
   "outputs": [],
   "source": [
    "nineteen_cent_p = \n",
    "\n",
    "// toto treba este prerobit"
   ]
  },
  {
   "cell_type": "code",
   "execution_count": 180,
   "metadata": {},
   "outputs": [
    {
     "data": {
      "text/plain": [
       "1880    1976\n",
       "1881    2005\n",
       "1882    1969\n",
       "1883    1996\n",
       "1884    2009\n",
       "1885    2002\n",
       "1886    2001\n",
       "1887    1973\n",
       "1888    1998\n",
       "1889    2002\n",
       "1891    2004\n",
       "1892    1982\n",
       "1893    1968\n",
       "1894    2010\n",
       "1895    2006\n",
       "1896    2007\n",
       "1897    2008\n",
       "1898    1993\n",
       "1899    1982\n",
       "1900    2007\n",
       "Name: release_date, dtype: object"
      ]
     },
     "execution_count": 180,
     "metadata": {},
     "output_type": "execute_result"
    }
   ],
   "source": [
    "printPieChart(['19. century', '20. century','21. century' ],\n",
    "              [percentage_of_complete_descriptions, percentage_of_none_descriptions])"
   ]
  },
  {
   "cell_type": "markdown",
   "metadata": {},
   "source": [
    "## Indexing"
   ]
  },
  {
   "cell_type": "code",
   "execution_count": 120,
   "metadata": {},
   "outputs": [],
   "source": [
    "myfile = open('data/data2/400gbJson.json', 'r',encoding='utf-8')\n",
    "jsondata = myfile.read()\n",
    "jsonobj = json.loads(jsondata)"
   ]
  },
  {
   "cell_type": "code",
   "execution_count": 121,
   "metadata": {},
   "outputs": [],
   "source": [
    "jsondump = []\n",
    "for i in range(0, len(jsonobj)):\n",
    "    if(jsonobj[i]['release_date'] == \"None\"):\n",
    "        jsonobj[i]['release_date'] = None\n",
    "    if(jsonobj[i]['name'] != \"\" and jsonobj[i]['name'] != \"None\"):\n",
    "        jsondump.append(json.dumps(jsonobj[i]))"
   ]
  },
  {
   "cell_type": "code",
   "execution_count": 122,
   "metadata": {},
   "outputs": [
    {
     "data": {
      "text/plain": [
       "list"
      ]
     },
     "execution_count": 122,
     "metadata": {},
     "output_type": "execute_result"
    }
   ],
   "source": [
    "type(jsondump)"
   ]
  },
  {
   "cell_type": "code",
   "execution_count": 123,
   "metadata": {},
   "outputs": [
    {
     "data": {
      "text/plain": [
       "339646"
      ]
     },
     "execution_count": 123,
     "metadata": {},
     "output_type": "execute_result"
    }
   ],
   "source": [
    "len(jsondump)"
   ]
  },
  {
   "cell_type": "code",
   "execution_count": 124,
   "metadata": {},
   "outputs": [
    {
     "data": {
      "text/plain": [
       "(339646, [])"
      ]
     },
     "execution_count": 124,
     "metadata": {},
     "output_type": "execute_result"
    }
   ],
   "source": [
    "es = Elasticsearch([{'host': 'localhost', 'port': 9200}], timeout=30, max_retries=10, retry_on_timeout=True)\n",
    "helpers.bulk(es, jsondump, index='movie')"
   ]
  },
  {
   "cell_type": "code",
   "execution_count": 125,
   "metadata": {},
   "outputs": [],
   "source": [
    "#es.indices.delete(index='movie', ignore=[400, 404])"
   ]
  },
  {
   "cell_type": "markdown",
   "metadata": {},
   "source": [
    "## Searching"
   ]
  },
  {
   "cell_type": "markdown",
   "metadata": {},
   "source": [
    "### Search by name"
   ]
  },
  {
   "cell_type": "markdown",
   "metadata": {},
   "source": [
    "Exact matching:"
   ]
  },
  {
   "cell_type": "code",
   "execution_count": 127,
   "metadata": {},
   "outputs": [
    {
     "data": {
      "application/vnd.jupyter.widget-view+json": {
       "model_id": "8031989fa6df4aadb0b0b16dd0f3f5c3",
       "version_major": 2,
       "version_minor": 0
      },
      "text/plain": [
       "interactive(children=(Text(value='', description='q'), Output()), _dom_classes=('widget-interact',))"
      ]
     },
     "metadata": {},
     "output_type": "display_data"
    }
   ],
   "source": [
    "@interact(q = \"\")\n",
    "def searchForName(q):\n",
    "    searches = es.search(index=\"movie\", body = {\n",
    "        \"query\": {\n",
    "            \"match_phrase\": {\n",
    "                \"name.keyword\": q\n",
    "            }\n",
    "        }\n",
    "    })\n",
    "    return list(map(lambda x: x[\"_source\"], searches[\"hits\"][\"hits\"]))"
   ]
  },
  {
   "cell_type": "code",
   "execution_count": null,
   "metadata": {},
   "outputs": [],
   "source": []
  },
  {
   "cell_type": "code",
   "execution_count": null,
   "metadata": {},
   "outputs": [],
   "source": []
  }
 ],
 "metadata": {
  "kernelspec": {
   "display_name": "Python 3",
   "language": "python",
   "name": "python3"
  },
  "language_info": {
   "codemirror_mode": {
    "name": "ipython",
    "version": 3
   },
   "file_extension": ".py",
   "mimetype": "text/x-python",
   "name": "python",
   "nbconvert_exporter": "python",
   "pygments_lexer": "ipython3",
   "version": "3.7.3"
  }
 },
 "nbformat": 4,
 "nbformat_minor": 2
}
